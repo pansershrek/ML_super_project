{
 "cells": [
  {
   "cell_type": "code",
   "execution_count": 1,
   "metadata": {},
   "outputs": [
    {
     "name": "stderr",
     "output_type": "stream",
     "text": [
      "/home/ravasiliev/.local/lib/python2.7/site-packages/IPython/core/interactiveshell.py:2714: DtypeWarning: Columns (4,5) have mixed types. Specify dtype option on import or set low_memory=False.\n",
      "  interactivity=interactivity, compiler=compiler, result=result)\n"
     ]
    }
   ],
   "source": [
    "# RESULT: 0.5190580 93 / 150\n",
    "\n",
    "\n",
    "from sklearn.neighbors import KNeighborsClassifier\n",
    "import numpy as np\n",
    "import pandas as pd\n",
    "import sklearn\n",
    "import matplotlib.pyplot as plt\n",
    "import sklearn.ensemble\n",
    "\n",
    "from sklearn.model_selection import train_test_split\n",
    "from sklearn.tree import DecisionTreeClassifier\n",
    "from sklearn.linear_model import LogisticRegression\n",
    "from sklearn.metrics import f1_score\n",
    "from sklearn.metrics import roc_auc_score\n",
    "from sklearn.metrics import accuracy_score\n",
    "from sklearn.metrics import log_loss\n",
    "\n",
    "\n",
    "import numpy as np\n",
    "import pandas\n",
    "import sklearn.ensemble\n",
    "import sklearn.metrics\n",
    "from sklearn.linear_model import LinearRegression, Ridge\n",
    "from sklearn.tree import DecisionTreeRegressor\n",
    "from sklearn.model_selection import train_test_split\n",
    "\n",
    "\n",
    "from pandas import read_csv, DataFrame\n",
    "from sklearn.neighbors import KNeighborsRegressor\n",
    "from sklearn.linear_model import LinearRegression, LogisticRegression\n",
    "from sklearn.svm import SVR\n",
    "from sklearn.ensemble import RandomForestRegressor\n",
    "from sklearn.metrics import r2_score\n",
    "from sklearn.model_selection import train_test_split\n",
    "import lightgbm as lgb\n",
    "import pandas as pd\n",
    "\n",
    "import numpy as np\n",
    "import pandas as pd\n",
    "import re\n",
    "\n",
    "\n",
    "\n",
    "# 'SK_ID' - IDшник\n",
    "# 'CELL_LAC_ID' - ID соты\n",
    "# 'MON' - месяц рассчета\n",
    "# 'SUM_MINUTES' - суммарный трафик абонента на этой соте\n",
    "# 'SUM_DATA_MB' - суммарный трафик в Мб\n",
    "# 'SUM_DATA_MIN' - суммарная продолжительность data-сессий\n",
    "train1 = pandas.read_csv('./train/subs_bs_consumption_train.csv', sep=';')\n",
    "test1 = pandas.read_csv('./test/subs_bs_consumption_test.csv', sep = ';')\n",
    "\n",
    "\n",
    "\n",
    "#'SK_ID' - IDшник\n",
    "#'CELL_LAC_ID' - номер соты\n",
    "#'DATA_VOL_MB' - сколько Мб использовали\n",
    "#'START_TIME' - время начала\n",
    "train2 = pandas.read_csv('./train/subs_bs_data_session_train.csv', sep=';')\n",
    "test2 = pandas.read_csv('./test/subs_bs_data_session_test.csv', sep = ';')\n",
    "\n",
    "\n",
    "\n",
    "#'SK_ID' - IDшник\n",
    "#'CELL_LAC_ID' - номер соты\n",
    "#'VOICE_DUR_MIN' - длина разговора\n",
    "#'START_TIME' - время начала\n",
    "train3 = pandas.read_csv('./train/subs_bs_voice_session_train.csv', sep=';')\n",
    "test3 = pandas.read_csv('./test/subs_bs_voice_session_test.csv', sep = ';')\n",
    "\n",
    "\n",
    "#CSI - оценка, целевой\n",
    "#SK_ID - ID клиента\n",
    "#CONTACT_DATE - дата опроса\n",
    "train4 = pandas.read_csv('./train/subs_csi_train.csv', sep=';')\n",
    "test4 = pandas.read_csv('./test/subs_csi_test.csv', sep = ';')\n",
    "\n",
    "#'SK_ID' - Idшник \n",
    "#'SNAP_DATE' - дата рассчета показателей\n",
    "#'COM_CAT#1', 'COM_CAT#2', 'COM_CAT#3',u'COM_CAT#7', u'COM_CAT#8', u'COM_CAT#17', u'COM_CAT#18',\n",
    "# 'COM_CAT#19', u'COM_CAT#20', u'COM_CAT#21', u'COM_CAT#22',\n",
    "# 'COM_CAT#23', u'COM_CAT#24', u'COM_CAT#25', u'COM_CAT#26',\n",
    "# 'COM_CAT#27', u'COM_CAT#28', u'COM_CAT#29', u'COM_CAT#30',\n",
    "# 'COM_CAT#31', u'COM_CAT#32', u'COM_CAT#33', u'COM_CAT#34' - характеристики\n",
    "# 'BASE_TYPE' - старая/новая абонентская база\n",
    "# 'ACT' - активность абонента\n",
    "# 'ARPU_GROUP' - группа по ARPU\n",
    "# 'DEVICE_TYPE_ID' - тип устройства\n",
    "# 'INTERNET_TYPE_ID' - 2G/3G/4G\n",
    "# 'REVENUE' - выручка\n",
    "# 'ITC' - расходы на интернет\n",
    "# 'VAS' - расходы на VAS\n",
    "# 'RENT_CHANNEL' - расходы на аренду каналов\n",
    "\n",
    "\n",
    "# 'ROAM' - расходы на роуминг\n",
    "# 'COST' - себестоимость\n",
    "train5 = pandas.read_csv('./train/subs_features_train.csv', sep=';')\n",
    "test5 = pandas.read_csv('./test/subs_features_test.csv', sep=';')"
   ]
  },
  {
   "cell_type": "code",
   "execution_count": 2,
   "metadata": {},
   "outputs": [],
   "source": [
    "def to_f(x):\n",
    "    if issubclass(str,type(x)):\n",
    "        x = x.replace(',','.')\n",
    "    return float(x)\n",
    "\n",
    "to_float = np.vectorize(to_f)"
   ]
  },
  {
   "cell_type": "code",
   "execution_count": 3,
   "metadata": {},
   "outputs": [],
   "source": [
    "data = train5\n",
    "\n",
    "CAT = []\n",
    "for i in data.columns:\n",
    "    if re.match(r'COM_CAT',i):\n",
    "        CAT.append(i)\n",
    "        \n",
    "for i in CAT:\n",
    "    data[i] = to_float(data[i])"
   ]
  },
  {
   "cell_type": "code",
   "execution_count": 4,
   "metadata": {},
   "outputs": [],
   "source": [
    "data = train4\n",
    "\n",
    "CAT = []\n",
    "for i in data.columns:\n",
    "    if re.match(r'COM_CAT',i):\n",
    "        CAT.append(i)\n",
    "        \n",
    "for i in CAT:\n",
    "    data[i] = to_float(data[i])"
   ]
  },
  {
   "cell_type": "code",
   "execution_count": 5,
   "metadata": {},
   "outputs": [],
   "source": [
    "data = test5\n",
    "\n",
    "CAT = []\n",
    "for i in data.columns:\n",
    "    if re.match(r'COM_CAT',i):\n",
    "        CAT.append(i)\n",
    "        \n",
    "for i in CAT:\n",
    "    data[i] = to_float(data[i])"
   ]
  },
  {
   "cell_type": "code",
   "execution_count": 6,
   "metadata": {},
   "outputs": [],
   "source": [
    "data = test4\n",
    "\n",
    "CAT = []\n",
    "for i in data.columns:\n",
    "    if re.match(r'COM_CAT',i):\n",
    "        CAT.append(i)\n",
    "        \n",
    "for i in CAT:\n",
    "    data[i] = to_float(data[i])"
   ]
  },
  {
   "cell_type": "code",
   "execution_count": 7,
   "metadata": {},
   "outputs": [],
   "source": [
    "del train5['SNAP_DATE']\n",
    "del test5['SNAP_DATE']"
   ]
  },
  {
   "cell_type": "code",
   "execution_count": 8,
   "metadata": {},
   "outputs": [],
   "source": [
    "res_dict = {}\n",
    "\n",
    "for i in range(len(train4['SK_ID'])):\n",
    "    res_dict[train4['SK_ID'][i]] = train4['CSI'][i]"
   ]
  },
  {
   "cell_type": "code",
   "execution_count": 9,
   "metadata": {},
   "outputs": [],
   "source": [
    "res = []\n",
    "for i in range(len(train5['SK_ID'])):\n",
    "    res.append(res_dict[train5['SK_ID'][i]])\n",
    "    \n",
    "train5['CSI'] = res"
   ]
  },
  {
   "cell_type": "code",
   "execution_count": 10,
   "metadata": {},
   "outputs": [],
   "source": [
    "train5_buf = train5\n",
    "train5 = train5_buf.copy()"
   ]
  },
  {
   "cell_type": "code",
   "execution_count": null,
   "metadata": {},
   "outputs": [],
   "source": []
  },
  {
   "cell_type": "code",
   "execution_count": 11,
   "metadata": {},
   "outputs": [],
   "source": [
    "trash = ['REVENUE', 'ITC', 'VAS','RENT_CHANNEL', 'ROAM', 'COST']\n",
    "\n",
    "norm =list(set(train5.columns) - set(trash))\n",
    "train5 = train5[norm]\n",
    "\n",
    "trash = ['REVENUE', 'ITC', 'VAS','RENT_CHANNEL', 'ROAM', 'COST', 'CSI']\n",
    "norm_t =list(set(train5.columns) - set(trash))\n",
    "test5= test5[norm_t]"
   ]
  },
  {
   "cell_type": "code",
   "execution_count": 12,
   "metadata": {},
   "outputs": [],
   "source": [
    "train5 = train5[~train5['COM_CAT#34'].isnull()]\n",
    "train5 = train5[~train5['COM_CAT#8'].isnull()]\n",
    "train5 = train5[~train5['INTERNET_TYPE_ID'].isnull()]\n",
    "train5 = train5[~train5['DEVICE_TYPE_ID'].isnull()]\n",
    "train5 = train5[~train5['ARPU_GROUP'].isnull()]"
   ]
  },
  {
   "cell_type": "code",
   "execution_count": 13,
   "metadata": {},
   "outputs": [],
   "source": [
    "ds, ds_test = train_test_split(train5, random_state=1337)"
   ]
  },
  {
   "cell_type": "code",
   "execution_count": 14,
   "metadata": {},
   "outputs": [],
   "source": [
    "Y = ds['CSI'].values\n",
    "cols = list(set(ds.columns.values) - set (['CSI']))\n",
    "X = ds[cols].values\n",
    "\n",
    "Y_test = ds_test['CSI'].values\n",
    "cols = list(set(ds_test.columns.values) - set (['CSI']))\n",
    "X_test = ds_test[cols].values"
   ]
  },
  {
   "cell_type": "code",
   "execution_count": 15,
   "metadata": {},
   "outputs": [
    {
     "name": "stdout",
     "output_type": "stream",
     "text": [
      "Max f1_score on max_depth   29  is  0.8053435114503817\n"
     ]
    },
    {
     "data": {
      "text/plain": [
       "<matplotlib.legend.Legend at 0x7ff201e5dc10>"
      ]
     },
     "execution_count": 15,
     "metadata": {},
     "output_type": "execute_result"
    },
    {
     "data": {
      "image/png": "[encoded data removed]",
      "text/plain": [
       "<Figure size 432x288 with 1 Axes>"
      ]
     },
     "metadata": {
      "needs_background": "light"
     },
     "output_type": "display_data"
    }
   ],
   "source": [
    "#model = KNeighborsClassifier(n_neighbors=19)\n",
    "#model = LogisticRegression()\n",
    "\n",
    "max_c = 0;\n",
    "max_j = 0;\n",
    "y_fsc = []\n",
    "y_rauc = []\n",
    "y_acc = []\n",
    "y_ll = []\n",
    "for j in range(2, 100):\n",
    "    x_vals = np.arange(2, 100)\n",
    "    model = DecisionTreeClassifier(max_depth = j, random_state=0)\n",
    "    model.fit(X, Y)\n",
    "    y_pred = model.predict(X_test)\n",
    "    f_sc = f1_score(y_pred, Y_test)\n",
    "    y_fsc.append(f_sc)\n",
    "    r_auc = roc_auc_score(y_pred, Y_test)\n",
    "    y_rauc.append(r_auc)\n",
    "    acc = accuracy_score(y_pred, Y_test)\n",
    "    y_acc.append(acc)\n",
    "    if f_sc > max_c:\n",
    "        max_c = f_sc\n",
    "        max_j = j\n",
    "print \"Max f1_score on max_depth  \",  max_j, \" is \", max_c\n",
    "plt.figure()\n",
    "plt.xlabel('max_depth')\n",
    "plt.ylabel('score')\n",
    "plt.title('DecisionTreeClassifier')\n",
    "#plt.plot(x_vals, y_fsc, color = \"green\", label = \"f1_score\")\n",
    "plt.plot(x_vals, y_rauc, color = \"red\", label = \"roc_auc_score\")\n",
    "#plt.plot(x_vals, y_acc, color = \"black\", label = \"accuracy_score\")\n",
    "plt.legend()"
   ]
  },
  {
   "cell_type": "code",
   "execution_count": null,
   "metadata": {},
   "outputs": [],
   "source": []
  },
  {
   "cell_type": "code",
   "execution_count": 16,
   "metadata": {},
   "outputs": [
    {
     "data": {
      "text/plain": [
       "DecisionTreeClassifier(class_weight=None, criterion='gini', max_depth=29,\n",
       "            max_features=None, max_leaf_nodes=None,\n",
       "            min_impurity_decrease=0.0, min_impurity_split=None,\n",
       "            min_samples_leaf=1, min_samples_split=2,\n",
       "            min_weight_fraction_leaf=0.0, presort=False, random_state=0,\n",
       "            splitter='best')"
      ]
     },
     "execution_count": 16,
     "metadata": {},
     "output_type": "execute_result"
    }
   ],
   "source": [
    "model = DecisionTreeClassifier(max_depth = 29, random_state=0)\n",
    "model.fit(train5[cols], train5['CSI'])\n",
    "#y_pred = model.predict(X_test)"
   ]
  },
  {
   "cell_type": "code",
   "execution_count": 17,
   "metadata": {},
   "outputs": [],
   "source": [
    "test5 = test5 [~test5 ['COM_CAT#34'].isnull()]\n",
    "test5  = test5 [~test5 ['COM_CAT#8'].isnull()]\n",
    "test5  = test5 [~test5 ['INTERNET_TYPE_ID'].isnull()]\n",
    "test5  = test5 [~test5 ['DEVICE_TYPE_ID'].isnull()]\n",
    "test5  = test5 [~test5 ['ARPU_GROUP'].isnull()]"
   ]
  },
  {
   "cell_type": "code",
   "execution_count": 18,
   "metadata": {},
   "outputs": [],
   "source": [
    "y_pred = model.predict(test5[cols])"
   ]
  },
  {
   "cell_type": "code",
   "execution_count": 19,
   "metadata": {},
   "outputs": [
    {
     "data": {
      "text/plain": [
       "array([1066, 2863,  866, ..., 3174, 4523, 3386])"
      ]
     },
     "execution_count": 19,
     "metadata": {},
     "output_type": "execute_result"
    }
   ],
   "source": [
    "np.array(test5['SK_ID'])"
   ]
  },
  {
   "cell_type": "code",
   "execution_count": 36,
   "metadata": {},
   "outputs": [],
   "source": [
    "dic = {}\n",
    "for i in range(len(test5['SK_ID'])):\n",
    "    dic[np.array(test5['SK_ID'])[i]] = y_pred[i]"
   ]
  },
  {
   "cell_type": "code",
   "execution_count": 21,
   "metadata": {},
   "outputs": [],
   "source": [
    "test4_big = pandas.read_csv('./test/subs_csi_test.csv', sep = ';')"
   ]
  },
  {
   "cell_type": "code",
   "execution_count": 34,
   "metadata": {},
   "outputs": [],
   "source": [
    "res_mas = []\n",
    "for i in range(len(test4['SK_ID'])):\n",
    "    if np.array(test4['SK_ID'])[i] not in dic:\n",
    "        res_mas.append(0)\n",
    "    else:\n",
    "        res_mas.append(dic[np.array(test4['SK_ID'])[i]])"
   ]
  },
  {
   "cell_type": "code",
   "execution_count": 35,
   "metadata": {},
   "outputs": [],
   "source": [
    "f = open('RESULT_NEW_2','w')\n",
    "for i in res_mas:\n",
    "    f.write(str(i))\n",
    "    f.write(str('\\n'))"
   ]
  }
 ],
 "metadata": {
  "kernelspec": {
   "display_name": "Python 2",
   "language": "python",
   "name": "python2"
  },
  "language_info": {
   "codemirror_mode": {
    "name": "ipython",
    "version": 2
   },
   "file_extension": ".py",
   "mimetype": "text/x-python",
   "name": "python",
   "nbconvert_exporter": "python",
   "pygments_lexer": "ipython2",
   "version": "2.7.12"
  }
 },
 "nbformat": 4,
 "nbformat_minor": 2
}
