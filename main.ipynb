{
 "cells": [
  {
   "cell_type": "code",
   "execution_count": 1,
   "metadata": {},
   "outputs": [],
   "source": [
    "import pandas as pd\n",
    "import numpy as np\n",
    "import seaborn as sns\n",
    "import random \n",
    "from sklearn.ensemble.gradient_boosting import GradientBoostingClassifier\n",
    "from catboost import CatBoostClassifier\n",
    "from sklearn.ensemble import RandomForestClassifier\n",
    "from sklearn.preprocessing import minmax_scale\n",
    "from datetime import datetime\n",
    "import re"
   ]
  },
  {
   "cell_type": "code",
   "execution_count": 77,
   "metadata": {},
   "outputs": [],
   "source": [
    "data1 = pd.read_csv(\"train/subs_csi_train.csv\", sep = \";\")\n",
    "data2 = pd.read_csv(\"train/subs_features_train.csv\", sep = \";\")"
   ]
  },
  {
   "cell_type": "code",
   "execution_count": 78,
   "metadata": {},
   "outputs": [
    {
     "data": {
      "text/html": [
       "<div>\n",
       "<style scoped>\n",
       "    .dataframe tbody tr th:only-of-type {\n",
       "        vertical-align: middle;\n",
       "    }\n",
       "\n",
       "    .dataframe tbody tr th {\n",
       "        vertical-align: top;\n",
       "    }\n",
       "\n",
       "    .dataframe thead th {\n",
       "        text-align: right;\n",
       "    }\n",
       "</style>\n",
       "<table border=\"1\" class=\"dataframe\">\n",
       "  <thead>\n",
       "    <tr style=\"text-align: right;\">\n",
       "      <th></th>\n",
       "      <th>SK_ID</th>\n",
       "      <th>CSI</th>\n",
       "      <th>CONTACT_DATE</th>\n",
       "    </tr>\n",
       "  </thead>\n",
       "  <tbody>\n",
       "    <tr>\n",
       "      <th>0</th>\n",
       "      <td>2</td>\n",
       "      <td>0</td>\n",
       "      <td>4.05</td>\n",
       "    </tr>\n",
       "    <tr>\n",
       "      <th>1</th>\n",
       "      <td>3</td>\n",
       "      <td>0</td>\n",
       "      <td>21.05</td>\n",
       "    </tr>\n",
       "    <tr>\n",
       "      <th>2</th>\n",
       "      <td>4</td>\n",
       "      <td>0</td>\n",
       "      <td>27.05</td>\n",
       "    </tr>\n",
       "    <tr>\n",
       "      <th>3</th>\n",
       "      <td>5</td>\n",
       "      <td>0</td>\n",
       "      <td>8.05</td>\n",
       "    </tr>\n",
       "    <tr>\n",
       "      <th>4</th>\n",
       "      <td>6</td>\n",
       "      <td>1</td>\n",
       "      <td>6.05</td>\n",
       "    </tr>\n",
       "  </tbody>\n",
       "</table>\n",
       "</div>"
      ],
      "text/plain": [
       "   SK_ID  CSI  CONTACT_DATE\n",
       "0      2    0          4.05\n",
       "1      3    0         21.05\n",
       "2      4    0         27.05\n",
       "3      5    0          8.05\n",
       "4      6    1          6.05"
      ]
     },
     "execution_count": 78,
     "metadata": {},
     "output_type": "execute_result"
    }
   ],
   "source": [
    "data1.head()"
   ]
  },
  {
   "cell_type": "code",
   "execution_count": 79,
   "metadata": {},
   "outputs": [
    {
     "data": {
      "text/html": [
       "<div>\n",
       "<style scoped>\n",
       "    .dataframe tbody tr th:only-of-type {\n",
       "        vertical-align: middle;\n",
       "    }\n",
       "\n",
       "    .dataframe tbody tr th {\n",
       "        vertical-align: top;\n",
       "    }\n",
       "\n",
       "    .dataframe thead th {\n",
       "        text-align: right;\n",
       "    }\n",
       "</style>\n",
       "<table border=\"1\" class=\"dataframe\">\n",
       "  <thead>\n",
       "    <tr style=\"text-align: right;\">\n",
       "      <th></th>\n",
       "      <th>SNAP_DATE</th>\n",
       "      <th>COM_CAT#1</th>\n",
       "      <th>SK_ID</th>\n",
       "      <th>COM_CAT#2</th>\n",
       "      <th>COM_CAT#3</th>\n",
       "      <th>BASE_TYPE</th>\n",
       "      <th>ACT</th>\n",
       "      <th>ARPU_GROUP</th>\n",
       "      <th>COM_CAT#7</th>\n",
       "      <th>COM_CAT#8</th>\n",
       "      <th>...</th>\n",
       "      <th>COM_CAT#25</th>\n",
       "      <th>COM_CAT#26</th>\n",
       "      <th>COM_CAT#27</th>\n",
       "      <th>COM_CAT#28</th>\n",
       "      <th>COM_CAT#29</th>\n",
       "      <th>COM_CAT#30</th>\n",
       "      <th>COM_CAT#31</th>\n",
       "      <th>COM_CAT#32</th>\n",
       "      <th>COM_CAT#33</th>\n",
       "      <th>COM_CAT#34</th>\n",
       "    </tr>\n",
       "  </thead>\n",
       "  <tbody>\n",
       "    <tr>\n",
       "      <th>0</th>\n",
       "      <td>01.08.01</td>\n",
       "      <td>4</td>\n",
       "      <td>3339</td>\n",
       "      <td>80</td>\n",
       "      <td>5</td>\n",
       "      <td>2</td>\n",
       "      <td>1</td>\n",
       "      <td>12.0</td>\n",
       "      <td>1</td>\n",
       "      <td>1489.0</td>\n",
       "      <td>...</td>\n",
       "      <td>1</td>\n",
       "      <td>1</td>\n",
       "      <td>,031696</td>\n",
       "      <td>,076724</td>\n",
       "      <td>,040279</td>\n",
       "      <td>,0133</td>\n",
       "      <td>,083382</td>\n",
       "      <td>,027579</td>\n",
       "      <td>,103896</td>\n",
       "      <td>2.0</td>\n",
       "    </tr>\n",
       "    <tr>\n",
       "      <th>1</th>\n",
       "      <td>01.08.01</td>\n",
       "      <td>4</td>\n",
       "      <td>238</td>\n",
       "      <td>75</td>\n",
       "      <td>5</td>\n",
       "      <td>2</td>\n",
       "      <td>1</td>\n",
       "      <td>7.0</td>\n",
       "      <td>1</td>\n",
       "      <td>945.0</td>\n",
       "      <td>...</td>\n",
       "      <td>1</td>\n",
       "      <td>1</td>\n",
       "      <td>,015893</td>\n",
       "      <td>,012981</td>\n",
       "      <td>0</td>\n",
       "      <td>0</td>\n",
       "      <td>,04893</td>\n",
       "      <td>,027579</td>\n",
       "      <td>,103896</td>\n",
       "      <td>3.0</td>\n",
       "    </tr>\n",
       "    <tr>\n",
       "      <th>2</th>\n",
       "      <td>01.08.01</td>\n",
       "      <td>4</td>\n",
       "      <td>4669</td>\n",
       "      <td>43</td>\n",
       "      <td>5</td>\n",
       "      <td>2</td>\n",
       "      <td>1</td>\n",
       "      <td>3.0</td>\n",
       "      <td>3</td>\n",
       "      <td>1033.0</td>\n",
       "      <td>...</td>\n",
       "      <td>1</td>\n",
       "      <td>1</td>\n",
       "      <td>,000415</td>\n",
       "      <td>0</td>\n",
       "      <td>0</td>\n",
       "      <td>0</td>\n",
       "      <td>,009397</td>\n",
       "      <td>,027579</td>\n",
       "      <td>,103896</td>\n",
       "      <td>3.0</td>\n",
       "    </tr>\n",
       "    <tr>\n",
       "      <th>3</th>\n",
       "      <td>01.08.01</td>\n",
       "      <td>4</td>\n",
       "      <td>2555</td>\n",
       "      <td>54</td>\n",
       "      <td>5</td>\n",
       "      <td>2</td>\n",
       "      <td>1</td>\n",
       "      <td>12.0</td>\n",
       "      <td>1</td>\n",
       "      <td>512.0</td>\n",
       "      <td>...</td>\n",
       "      <td>1</td>\n",
       "      <td>1</td>\n",
       "      <td>,04651</td>\n",
       "      <td>,039486</td>\n",
       "      <td>,000829</td>\n",
       "      <td>0</td>\n",
       "      <td>,196676</td>\n",
       "      <td>,027579</td>\n",
       "      <td>,103896</td>\n",
       "      <td>1.0</td>\n",
       "    </tr>\n",
       "    <tr>\n",
       "      <th>4</th>\n",
       "      <td>01.08.01</td>\n",
       "      <td>4</td>\n",
       "      <td>2291</td>\n",
       "      <td>38</td>\n",
       "      <td>5</td>\n",
       "      <td>2</td>\n",
       "      <td>1</td>\n",
       "      <td>7.0</td>\n",
       "      <td>1</td>\n",
       "      <td>1268.0</td>\n",
       "      <td>...</td>\n",
       "      <td>1</td>\n",
       "      <td>1</td>\n",
       "      <td>,005393</td>\n",
       "      <td>,007385</td>\n",
       "      <td>,003884</td>\n",
       "      <td>0</td>\n",
       "      <td>,047297</td>\n",
       "      <td>,027579</td>\n",
       "      <td>,103896</td>\n",
       "      <td>6.0</td>\n",
       "    </tr>\n",
       "  </tbody>\n",
       "</table>\n",
       "<p>5 rows × 36 columns</p>\n",
       "</div>"
      ],
      "text/plain": [
       "  SNAP_DATE  COM_CAT#1  SK_ID  COM_CAT#2  COM_CAT#3  BASE_TYPE  ACT  \\\n",
       "0  01.08.01          4   3339         80          5          2    1   \n",
       "1  01.08.01          4    238         75          5          2    1   \n",
       "2  01.08.01          4   4669         43          5          2    1   \n",
       "3  01.08.01          4   2555         54          5          2    1   \n",
       "4  01.08.01          4   2291         38          5          2    1   \n",
       "\n",
       "   ARPU_GROUP  COM_CAT#7  COM_CAT#8    ...      COM_CAT#25  COM_CAT#26  \\\n",
       "0        12.0          1     1489.0    ...               1           1   \n",
       "1         7.0          1      945.0    ...               1           1   \n",
       "2         3.0          3     1033.0    ...               1           1   \n",
       "3        12.0          1      512.0    ...               1           1   \n",
       "4         7.0          1     1268.0    ...               1           1   \n",
       "\n",
       "  COM_CAT#27 COM_CAT#28 COM_CAT#29 COM_CAT#30 COM_CAT#31 COM_CAT#32  \\\n",
       "0    ,031696    ,076724    ,040279      ,0133    ,083382    ,027579   \n",
       "1    ,015893    ,012981          0          0     ,04893    ,027579   \n",
       "2    ,000415          0          0          0    ,009397    ,027579   \n",
       "3     ,04651    ,039486    ,000829          0    ,196676    ,027579   \n",
       "4    ,005393    ,007385    ,003884          0    ,047297    ,027579   \n",
       "\n",
       "  COM_CAT#33 COM_CAT#34  \n",
       "0    ,103896        2.0  \n",
       "1    ,103896        3.0  \n",
       "2    ,103896        3.0  \n",
       "3    ,103896        1.0  \n",
       "4    ,103896        6.0  \n",
       "\n",
       "[5 rows x 36 columns]"
      ]
     },
     "execution_count": 79,
     "metadata": {},
     "output_type": "execute_result"
    }
   ],
   "source": [
    "data2.head()"
   ]
  },
  {
   "cell_type": "code",
   "execution_count": 80,
   "metadata": {},
   "outputs": [
    {
     "name": "stdout",
     "output_type": "stream",
     "text": [
      "(47411, 38)\n"
     ]
    },
    {
     "data": {
      "text/html": [
       "<div>\n",
       "<style scoped>\n",
       "    .dataframe tbody tr th:only-of-type {\n",
       "        vertical-align: middle;\n",
       "    }\n",
       "\n",
       "    .dataframe tbody tr th {\n",
       "        vertical-align: top;\n",
       "    }\n",
       "\n",
       "    .dataframe thead th {\n",
       "        text-align: right;\n",
       "    }\n",
       "</style>\n",
       "<table border=\"1\" class=\"dataframe\">\n",
       "  <thead>\n",
       "    <tr style=\"text-align: right;\">\n",
       "      <th></th>\n",
       "      <th>SK_ID</th>\n",
       "      <th>CSI</th>\n",
       "      <th>CONTACT_DATE</th>\n",
       "      <th>SNAP_DATE</th>\n",
       "      <th>COM_CAT#1</th>\n",
       "      <th>COM_CAT#2</th>\n",
       "      <th>COM_CAT#3</th>\n",
       "      <th>BASE_TYPE</th>\n",
       "      <th>ACT</th>\n",
       "      <th>ARPU_GROUP</th>\n",
       "      <th>...</th>\n",
       "      <th>COM_CAT#25</th>\n",
       "      <th>COM_CAT#26</th>\n",
       "      <th>COM_CAT#27</th>\n",
       "      <th>COM_CAT#28</th>\n",
       "      <th>COM_CAT#29</th>\n",
       "      <th>COM_CAT#30</th>\n",
       "      <th>COM_CAT#31</th>\n",
       "      <th>COM_CAT#32</th>\n",
       "      <th>COM_CAT#33</th>\n",
       "      <th>COM_CAT#34</th>\n",
       "    </tr>\n",
       "  </thead>\n",
       "  <tbody>\n",
       "    <tr>\n",
       "      <th>0</th>\n",
       "      <td>2</td>\n",
       "      <td>0</td>\n",
       "      <td>4.05</td>\n",
       "      <td>01.03.02</td>\n",
       "      <td>7</td>\n",
       "      <td>77</td>\n",
       "      <td>10</td>\n",
       "      <td>1</td>\n",
       "      <td>1</td>\n",
       "      <td>10.0</td>\n",
       "      <td>...</td>\n",
       "      <td>1</td>\n",
       "      <td>1</td>\n",
       "      <td>,00207</td>\n",
       "      <td>,007335</td>\n",
       "      <td>,00005</td>\n",
       "      <td>,002785</td>\n",
       "      <td>,029765</td>\n",
       "      <td>,027579</td>\n",
       "      <td>,103896</td>\n",
       "      <td>NaN</td>\n",
       "    </tr>\n",
       "    <tr>\n",
       "      <th>1</th>\n",
       "      <td>2</td>\n",
       "      <td>0</td>\n",
       "      <td>4.05</td>\n",
       "      <td>01.02.02</td>\n",
       "      <td>7</td>\n",
       "      <td>77</td>\n",
       "      <td>9</td>\n",
       "      <td>1</td>\n",
       "      <td>1</td>\n",
       "      <td>10.0</td>\n",
       "      <td>...</td>\n",
       "      <td>1</td>\n",
       "      <td>1</td>\n",
       "      <td>,003913</td>\n",
       "      <td>,00159</td>\n",
       "      <td>,000018</td>\n",
       "      <td>,001954</td>\n",
       "      <td>,054871</td>\n",
       "      <td>,027579</td>\n",
       "      <td>,103896</td>\n",
       "      <td>NaN</td>\n",
       "    </tr>\n",
       "    <tr>\n",
       "      <th>2</th>\n",
       "      <td>2</td>\n",
       "      <td>0</td>\n",
       "      <td>4.05</td>\n",
       "      <td>01.05.02</td>\n",
       "      <td>7</td>\n",
       "      <td>77</td>\n",
       "      <td>12</td>\n",
       "      <td>1</td>\n",
       "      <td>1</td>\n",
       "      <td>9.0</td>\n",
       "      <td>...</td>\n",
       "      <td>1</td>\n",
       "      <td>1</td>\n",
       "      <td>,001801</td>\n",
       "      <td>,008317</td>\n",
       "      <td>,000081</td>\n",
       "      <td>,002441</td>\n",
       "      <td>,018126</td>\n",
       "      <td>,027579</td>\n",
       "      <td>,103896</td>\n",
       "      <td>9.0</td>\n",
       "    </tr>\n",
       "    <tr>\n",
       "      <th>3</th>\n",
       "      <td>2</td>\n",
       "      <td>0</td>\n",
       "      <td>4.05</td>\n",
       "      <td>01.01.02</td>\n",
       "      <td>7</td>\n",
       "      <td>77</td>\n",
       "      <td>17</td>\n",
       "      <td>1</td>\n",
       "      <td>1</td>\n",
       "      <td>6.0</td>\n",
       "      <td>...</td>\n",
       "      <td>1</td>\n",
       "      <td>0</td>\n",
       "      <td>,001798</td>\n",
       "      <td>,002048</td>\n",
       "      <td>,000033</td>\n",
       "      <td>,002331</td>\n",
       "      <td>,022108</td>\n",
       "      <td>,027579</td>\n",
       "      <td>,103896</td>\n",
       "      <td>NaN</td>\n",
       "    </tr>\n",
       "    <tr>\n",
       "      <th>4</th>\n",
       "      <td>2</td>\n",
       "      <td>0</td>\n",
       "      <td>4.05</td>\n",
       "      <td>01.04.02</td>\n",
       "      <td>7</td>\n",
       "      <td>77</td>\n",
       "      <td>11</td>\n",
       "      <td>1</td>\n",
       "      <td>1</td>\n",
       "      <td>8.0</td>\n",
       "      <td>...</td>\n",
       "      <td>1</td>\n",
       "      <td>1</td>\n",
       "      <td>,00652</td>\n",
       "      <td>,001408</td>\n",
       "      <td>,00001</td>\n",
       "      <td>,001709</td>\n",
       "      <td>,022772</td>\n",
       "      <td>,027579</td>\n",
       "      <td>,103896</td>\n",
       "      <td>9.0</td>\n",
       "    </tr>\n",
       "  </tbody>\n",
       "</table>\n",
       "<p>5 rows × 38 columns</p>\n",
       "</div>"
      ],
      "text/plain": [
       "   SK_ID  CSI  CONTACT_DATE SNAP_DATE  COM_CAT#1  COM_CAT#2  COM_CAT#3  \\\n",
       "0      2    0          4.05  01.03.02          7         77         10   \n",
       "1      2    0          4.05  01.02.02          7         77          9   \n",
       "2      2    0          4.05  01.05.02          7         77         12   \n",
       "3      2    0          4.05  01.01.02          7         77         17   \n",
       "4      2    0          4.05  01.04.02          7         77         11   \n",
       "\n",
       "   BASE_TYPE  ACT  ARPU_GROUP    ...      COM_CAT#25  COM_CAT#26  COM_CAT#27  \\\n",
       "0          1    1        10.0    ...               1           1      ,00207   \n",
       "1          1    1        10.0    ...               1           1     ,003913   \n",
       "2          1    1         9.0    ...               1           1     ,001801   \n",
       "3          1    1         6.0    ...               1           0     ,001798   \n",
       "4          1    1         8.0    ...               1           1      ,00652   \n",
       "\n",
       "   COM_CAT#28 COM_CAT#29 COM_CAT#30 COM_CAT#31 COM_CAT#32 COM_CAT#33  \\\n",
       "0     ,007335     ,00005    ,002785    ,029765    ,027579    ,103896   \n",
       "1      ,00159    ,000018    ,001954    ,054871    ,027579    ,103896   \n",
       "2     ,008317    ,000081    ,002441    ,018126    ,027579    ,103896   \n",
       "3     ,002048    ,000033    ,002331    ,022108    ,027579    ,103896   \n",
       "4     ,001408     ,00001    ,001709    ,022772    ,027579    ,103896   \n",
       "\n",
       "  COM_CAT#34  \n",
       "0        NaN  \n",
       "1        NaN  \n",
       "2        9.0  \n",
       "3        NaN  \n",
       "4        9.0  \n",
       "\n",
       "[5 rows x 38 columns]"
      ]
     },
     "execution_count": 80,
     "metadata": {},
     "output_type": "execute_result"
    }
   ],
   "source": [
    "train = pd.merge(data1,data2,on='SK_ID',how='left')\n",
    "print(train.shape)\n",
    "train.head()"
   ]
  },
  {
   "cell_type": "code",
   "execution_count": 81,
   "metadata": {},
   "outputs": [],
   "source": [
    "def to_f(x):\n",
    "    if issubclass(str,type(x)):\n",
    "        if x.find(',') != -1:\n",
    "            x = x.replace(',','.')\n",
    "            return float(x)\n",
    "    return x\n",
    "to_float = np.vectorize(to_f)"
   ]
  },
  {
   "cell_type": "code",
   "execution_count": 82,
   "metadata": {},
   "outputs": [
    {
     "data": {
      "text/plain": [
       "SK_ID                  0\n",
       "CSI                    0\n",
       "CONTACT_DATE           0\n",
       "SNAP_DATE              0\n",
       "COM_CAT#1              0\n",
       "COM_CAT#2              0\n",
       "COM_CAT#3              0\n",
       "BASE_TYPE              0\n",
       "ACT                    0\n",
       "ARPU_GROUP            21\n",
       "COM_CAT#7              0\n",
       "COM_CAT#8            124\n",
       "DEVICE_TYPE_ID       111\n",
       "INTERNET_TYPE_ID     111\n",
       "REVENUE                0\n",
       "ITC                    0\n",
       "VAS                    0\n",
       "RENT_CHANNEL           0\n",
       "ROAM                   0\n",
       "COST                   0\n",
       "COM_CAT#17             0\n",
       "COM_CAT#18             0\n",
       "COM_CAT#19             0\n",
       "COM_CAT#20             0\n",
       "COM_CAT#21             0\n",
       "COM_CAT#22             0\n",
       "COM_CAT#23             0\n",
       "COM_CAT#24             0\n",
       "COM_CAT#25             0\n",
       "COM_CAT#26             0\n",
       "COM_CAT#27             0\n",
       "COM_CAT#28             0\n",
       "COM_CAT#29             0\n",
       "COM_CAT#30             0\n",
       "COM_CAT#31             0\n",
       "COM_CAT#32             0\n",
       "COM_CAT#33             0\n",
       "COM_CAT#34          1603\n",
       "dtype: int64"
      ]
     },
     "execution_count": 82,
     "metadata": {},
     "output_type": "execute_result"
    }
   ],
   "source": [
    "train.isnull().sum()"
   ]
  },
  {
   "cell_type": "code",
   "execution_count": 83,
   "metadata": {},
   "outputs": [
    {
     "data": {
      "text/plain": [
       "0    39982\n",
       "1     7429\n",
       "Name: CSI, dtype: int64"
      ]
     },
     "execution_count": 83,
     "metadata": {},
     "output_type": "execute_result"
    }
   ],
   "source": [
    "train['CSI'].value_counts()"
   ]
  },
  {
   "cell_type": "code",
   "execution_count": 84,
   "metadata": {},
   "outputs": [
    {
     "data": {
      "text/html": [
       "<div>\n",
       "<style scoped>\n",
       "    .dataframe tbody tr th:only-of-type {\n",
       "        vertical-align: middle;\n",
       "    }\n",
       "\n",
       "    .dataframe tbody tr th {\n",
       "        vertical-align: top;\n",
       "    }\n",
       "\n",
       "    .dataframe thead th {\n",
       "        text-align: right;\n",
       "    }\n",
       "</style>\n",
       "<table border=\"1\" class=\"dataframe\">\n",
       "  <thead>\n",
       "    <tr style=\"text-align: right;\">\n",
       "      <th></th>\n",
       "      <th>SK_ID</th>\n",
       "      <th>CSI</th>\n",
       "      <th>CONTACT_DATE</th>\n",
       "      <th>SNAP_DATE</th>\n",
       "      <th>COM_CAT#1</th>\n",
       "      <th>COM_CAT#2</th>\n",
       "      <th>COM_CAT#3</th>\n",
       "      <th>BASE_TYPE</th>\n",
       "      <th>ACT</th>\n",
       "      <th>ARPU_GROUP</th>\n",
       "      <th>...</th>\n",
       "      <th>COM_CAT#25</th>\n",
       "      <th>COM_CAT#26</th>\n",
       "      <th>COM_CAT#27</th>\n",
       "      <th>COM_CAT#28</th>\n",
       "      <th>COM_CAT#29</th>\n",
       "      <th>COM_CAT#30</th>\n",
       "      <th>COM_CAT#31</th>\n",
       "      <th>COM_CAT#32</th>\n",
       "      <th>COM_CAT#33</th>\n",
       "      <th>COM_CAT#34</th>\n",
       "    </tr>\n",
       "  </thead>\n",
       "  <tbody>\n",
       "    <tr>\n",
       "      <th>0</th>\n",
       "      <td>2</td>\n",
       "      <td>0</td>\n",
       "      <td>4.05</td>\n",
       "      <td>01.03.02</td>\n",
       "      <td>7</td>\n",
       "      <td>77</td>\n",
       "      <td>10</td>\n",
       "      <td>1</td>\n",
       "      <td>1</td>\n",
       "      <td>10.0</td>\n",
       "      <td>...</td>\n",
       "      <td>1</td>\n",
       "      <td>1</td>\n",
       "      <td>,00207</td>\n",
       "      <td>,007335</td>\n",
       "      <td>,00005</td>\n",
       "      <td>,002785</td>\n",
       "      <td>,029765</td>\n",
       "      <td>,027579</td>\n",
       "      <td>,103896</td>\n",
       "      <td>-1.0</td>\n",
       "    </tr>\n",
       "    <tr>\n",
       "      <th>1</th>\n",
       "      <td>2</td>\n",
       "      <td>0</td>\n",
       "      <td>4.05</td>\n",
       "      <td>01.02.02</td>\n",
       "      <td>7</td>\n",
       "      <td>77</td>\n",
       "      <td>9</td>\n",
       "      <td>1</td>\n",
       "      <td>1</td>\n",
       "      <td>10.0</td>\n",
       "      <td>...</td>\n",
       "      <td>1</td>\n",
       "      <td>1</td>\n",
       "      <td>,003913</td>\n",
       "      <td>,00159</td>\n",
       "      <td>,000018</td>\n",
       "      <td>,001954</td>\n",
       "      <td>,054871</td>\n",
       "      <td>,027579</td>\n",
       "      <td>,103896</td>\n",
       "      <td>-1.0</td>\n",
       "    </tr>\n",
       "    <tr>\n",
       "      <th>2</th>\n",
       "      <td>2</td>\n",
       "      <td>0</td>\n",
       "      <td>4.05</td>\n",
       "      <td>01.05.02</td>\n",
       "      <td>7</td>\n",
       "      <td>77</td>\n",
       "      <td>12</td>\n",
       "      <td>1</td>\n",
       "      <td>1</td>\n",
       "      <td>9.0</td>\n",
       "      <td>...</td>\n",
       "      <td>1</td>\n",
       "      <td>1</td>\n",
       "      <td>,001801</td>\n",
       "      <td>,008317</td>\n",
       "      <td>,000081</td>\n",
       "      <td>,002441</td>\n",
       "      <td>,018126</td>\n",
       "      <td>,027579</td>\n",
       "      <td>,103896</td>\n",
       "      <td>9.0</td>\n",
       "    </tr>\n",
       "    <tr>\n",
       "      <th>3</th>\n",
       "      <td>2</td>\n",
       "      <td>0</td>\n",
       "      <td>4.05</td>\n",
       "      <td>01.01.02</td>\n",
       "      <td>7</td>\n",
       "      <td>77</td>\n",
       "      <td>17</td>\n",
       "      <td>1</td>\n",
       "      <td>1</td>\n",
       "      <td>6.0</td>\n",
       "      <td>...</td>\n",
       "      <td>1</td>\n",
       "      <td>0</td>\n",
       "      <td>,001798</td>\n",
       "      <td>,002048</td>\n",
       "      <td>,000033</td>\n",
       "      <td>,002331</td>\n",
       "      <td>,022108</td>\n",
       "      <td>,027579</td>\n",
       "      <td>,103896</td>\n",
       "      <td>-1.0</td>\n",
       "    </tr>\n",
       "    <tr>\n",
       "      <th>4</th>\n",
       "      <td>2</td>\n",
       "      <td>0</td>\n",
       "      <td>4.05</td>\n",
       "      <td>01.04.02</td>\n",
       "      <td>7</td>\n",
       "      <td>77</td>\n",
       "      <td>11</td>\n",
       "      <td>1</td>\n",
       "      <td>1</td>\n",
       "      <td>8.0</td>\n",
       "      <td>...</td>\n",
       "      <td>1</td>\n",
       "      <td>1</td>\n",
       "      <td>,00652</td>\n",
       "      <td>,001408</td>\n",
       "      <td>,00001</td>\n",
       "      <td>,001709</td>\n",
       "      <td>,022772</td>\n",
       "      <td>,027579</td>\n",
       "      <td>,103896</td>\n",
       "      <td>9.0</td>\n",
       "    </tr>\n",
       "  </tbody>\n",
       "</table>\n",
       "<p>5 rows × 38 columns</p>\n",
       "</div>"
      ],
      "text/plain": [
       "   SK_ID  CSI  CONTACT_DATE SNAP_DATE  COM_CAT#1  COM_CAT#2  COM_CAT#3  \\\n",
       "0      2    0          4.05  01.03.02          7         77         10   \n",
       "1      2    0          4.05  01.02.02          7         77          9   \n",
       "2      2    0          4.05  01.05.02          7         77         12   \n",
       "3      2    0          4.05  01.01.02          7         77         17   \n",
       "4      2    0          4.05  01.04.02          7         77         11   \n",
       "\n",
       "   BASE_TYPE  ACT  ARPU_GROUP    ...      COM_CAT#25  COM_CAT#26  COM_CAT#27  \\\n",
       "0          1    1        10.0    ...               1           1      ,00207   \n",
       "1          1    1        10.0    ...               1           1     ,003913   \n",
       "2          1    1         9.0    ...               1           1     ,001801   \n",
       "3          1    1         6.0    ...               1           0     ,001798   \n",
       "4          1    1         8.0    ...               1           1      ,00652   \n",
       "\n",
       "   COM_CAT#28 COM_CAT#29 COM_CAT#30 COM_CAT#31 COM_CAT#32 COM_CAT#33  \\\n",
       "0     ,007335     ,00005    ,002785    ,029765    ,027579    ,103896   \n",
       "1      ,00159    ,000018    ,001954    ,054871    ,027579    ,103896   \n",
       "2     ,008317    ,000081    ,002441    ,018126    ,027579    ,103896   \n",
       "3     ,002048    ,000033    ,002331    ,022108    ,027579    ,103896   \n",
       "4     ,001408     ,00001    ,001709    ,022772    ,027579    ,103896   \n",
       "\n",
       "  COM_CAT#34  \n",
       "0       -1.0  \n",
       "1       -1.0  \n",
       "2        9.0  \n",
       "3       -1.0  \n",
       "4        9.0  \n",
       "\n",
       "[5 rows x 38 columns]"
      ]
     },
     "execution_count": 84,
     "metadata": {},
     "output_type": "execute_result"
    }
   ],
   "source": [
    "for col in train.columns:\n",
    "    if col == 'SNAP_DATE':\n",
    "        train[col] = train[col].fillna('01.01.01')\n",
    "    else:\n",
    "        train[col] = train[col].fillna(-1)\n",
    "train.head()"
   ]
  },
  {
   "cell_type": "code",
   "execution_count": 85,
   "metadata": {},
   "outputs": [],
   "source": [
    "for i in train.columns:\n",
    "    if train[i].dtypes == np.object:\n",
    "        train[i] = to_float(train[i])"
   ]
  },
  {
   "cell_type": "code",
   "execution_count": null,
   "metadata": {},
   "outputs": [],
   "source": []
  },
  {
   "cell_type": "code",
   "execution_count": 86,
   "metadata": {},
   "outputs": [
    {
     "name": "stdout",
     "output_type": "stream",
     "text": [
      "['COM_CAT#32', 'INTERNET_TYPE_ID', 'ITC', 'COM_CAT#3', 'RENT_CHANNEL', 'ROAM', 'CONTACT_DATE', 'COM_CAT#30', 'COM_CAT#23', 'COM_CAT#34', 'REVENUE', 'COM_CAT#33', 'COM_CAT#2', 'COM_CAT#24', 'COM_CAT#19', 'COM_CAT#26', 'COM_CAT#22', 'COM_CAT#18', 'COM_CAT#20', 'COM_CAT#21', 'COM_CAT#29', 'ACT', 'COM_CAT#27', 'COM_CAT#28', 'COM_CAT#17', 'BASE_TYPE', 'COM_CAT#31', 'COM_CAT#25', 'VAS', 'COST', 'COM_CAT#1', 'COM_CAT#7', 'COM_CAT#8', 'DEVICE_TYPE_ID', 'ARPU_GROUP']\n"
     ]
    }
   ],
   "source": [
    "columns = list(set(train.columns.values) - set(['CSI','SK_ID','SNAP_DATE']))\n",
    "print(columns)\n",
    "X = train[columns].values\n",
    "y = train['CSI'].values"
   ]
  },
  {
   "cell_type": "code",
   "execution_count": 87,
   "metadata": {},
   "outputs": [
    {
     "name": "stdout",
     "output_type": "stream",
     "text": [
      "(5221, 2)\n"
     ]
    }
   ],
   "source": [
    "data1_t = pd.read_csv(\"test/subs_csi_test.csv\", sep = \";\")\n",
    "print(data1_t.shape)\n",
    "data2_t = pd.read_csv(\"test/subs_features_test.csv\", sep = \";\")"
   ]
  },
  {
   "cell_type": "code",
   "execution_count": 88,
   "metadata": {},
   "outputs": [
    {
     "name": "stdout",
     "output_type": "stream",
     "text": [
      "(58989, 37)\n",
      "['COM_CAT#32', 'INTERNET_TYPE_ID', 'ITC', 'COM_CAT#3', 'RENT_CHANNEL', 'ROAM', 'CONTACT_DATE', 'COM_CAT#30', 'COM_CAT#23', 'COM_CAT#34', 'REVENUE', 'COM_CAT#33', 'COM_CAT#2', 'COM_CAT#24', 'COM_CAT#19', 'COM_CAT#26', 'COM_CAT#22', 'COM_CAT#18', 'COM_CAT#20', 'COM_CAT#21', 'COM_CAT#29', 'ACT', 'COM_CAT#27', 'COM_CAT#28', 'COM_CAT#17', 'BASE_TYPE', 'COM_CAT#31', 'COM_CAT#25', 'VAS', 'COST', 'COM_CAT#1', 'COM_CAT#7', 'COM_CAT#8', 'DEVICE_TYPE_ID', 'ARPU_GROUP']\n"
     ]
    }
   ],
   "source": [
    "test = pd.merge(data1_t, data2_t, on='SK_ID', how='left')\n",
    "print(test.shape)\n",
    "for col in test.columns:\n",
    "    if col == 'SNAP_DATE':\n",
    "        test[col] = test[col].fillna('01.01.01')\n",
    "    else:\n",
    "        test[col] = test[col].fillna(-1)\n",
    "for i in test.columns:\n",
    "    if test[i].dtypes == np.object:\n",
    "        test[i] = to_float(test[i])\n",
    "columns = list(set(test.columns.values) - set(['SK_ID', \"SNAP_DATE\"]))\n",
    "print(columns)\n",
    "X_t = test[columns].values"
   ]
  },
  {
   "cell_type": "code",
   "execution_count": 147,
   "metadata": {},
   "outputs": [
    {
     "name": "stdout",
     "output_type": "stream",
     "text": [
      "0:\tlearn: 0.4332786\ttotal: 105ms\tremaining: 105ms\n",
      "1:\tlearn: 0.4302588\ttotal: 145ms\tremaining: 0us\n"
     ]
    }
   ],
   "source": [
    "model = CatBoostClassifier(iterations=2, depth=2, learning_rate=1, loss_function='Logloss', logging_level='Verbose')\n",
    "model.fit(X,y)\n",
    "ans = model.predict(X_t)"
   ]
  },
  {
   "cell_type": "code",
   "execution_count": 148,
   "metadata": {},
   "outputs": [
    {
     "data": {
      "text/html": [
       "<div>\n",
       "<style scoped>\n",
       "    .dataframe tbody tr th:only-of-type {\n",
       "        vertical-align: middle;\n",
       "    }\n",
       "\n",
       "    .dataframe tbody tr th {\n",
       "        vertical-align: top;\n",
       "    }\n",
       "\n",
       "    .dataframe thead th {\n",
       "        text-align: right;\n",
       "    }\n",
       "</style>\n",
       "<table border=\"1\" class=\"dataframe\">\n",
       "  <thead>\n",
       "    <tr style=\"text-align: right;\">\n",
       "      <th></th>\n",
       "      <th>0</th>\n",
       "    </tr>\n",
       "  </thead>\n",
       "  <tbody>\n",
       "    <tr>\n",
       "      <th>0</th>\n",
       "      <td>0.0</td>\n",
       "    </tr>\n",
       "    <tr>\n",
       "      <th>1</th>\n",
       "      <td>0.0</td>\n",
       "    </tr>\n",
       "    <tr>\n",
       "      <th>2</th>\n",
       "      <td>0.0</td>\n",
       "    </tr>\n",
       "    <tr>\n",
       "      <th>3</th>\n",
       "      <td>0.0</td>\n",
       "    </tr>\n",
       "    <tr>\n",
       "      <th>4</th>\n",
       "      <td>0.0</td>\n",
       "    </tr>\n",
       "  </tbody>\n",
       "</table>\n",
       "</div>"
      ],
      "text/plain": [
       "     0\n",
       "0  0.0\n",
       "1  0.0\n",
       "2  0.0\n",
       "3  0.0\n",
       "4  0.0"
      ]
     },
     "execution_count": 148,
     "metadata": {},
     "output_type": "execute_result"
    }
   ],
   "source": [
    "df = pd.DataFrame(ans)\n",
    "df.head()"
   ]
  },
  {
   "cell_type": "code",
   "execution_count": 149,
   "metadata": {},
   "outputs": [],
   "source": [
    "#df.to_csv(\"ans.csv\",index=False,sep='\\n')"
   ]
  },
  {
   "cell_type": "code",
   "execution_count": 150,
   "metadata": {},
   "outputs": [
    {
     "data": {
      "text/plain": [
       "0.0    58989\n",
       "Name: RES, dtype: int64"
      ]
     },
     "execution_count": 150,
     "metadata": {},
     "output_type": "execute_result"
    }
   ],
   "source": [
    "dfd = test.copy()\n",
    "dfd['RES'] = df\n",
    "dfd['RES'].value_counts()"
   ]
  },
  {
   "cell_type": "code",
   "execution_count": 110,
   "metadata": {},
   "outputs": [
    {
     "name": "stdout",
     "output_type": "stream",
     "text": [
      "0\n"
     ]
    }
   ],
   "source": [
    "a = set()\n",
    "with open(\"ans.csv\",\"w\") as file:\n",
    "    for i in data1_t['SK_ID']:\n",
    "        #if ((dfd[dfd['SK_ID'] == i]['RES'].value_counts()).shape[0] > 1):\n",
    "        #    print('1\\n',file=file,flush=True)\n",
    "        #else:\n",
    "           print('0\\n',file=file,flush=True)"
   ]
  },
  {
   "cell_type": "code",
   "execution_count": 111,
   "metadata": {},
   "outputs": [
    {
     "data": {
      "text/plain": [
       "0    2653\n",
       "1    2567\n",
       "Name: 0, dtype: int64"
      ]
     },
     "execution_count": 111,
     "metadata": {},
     "output_type": "execute_result"
    }
   ],
   "source": [
    "kek = pd.read_csv(\"ans.csv\")\n",
    "kek['0'].value_counts()"
   ]
  },
  {
   "cell_type": "code",
   "execution_count": 95,
   "metadata": {},
   "outputs": [
    {
     "name": "stdout",
     "output_type": "stream",
     "text": [
      "5221\n"
     ]
    }
   ],
   "source": [
    "\n",
    "for i in data1_t['SK_ID']:\n",
    "    a.add(i)\n",
    "print(len(a))"
   ]
  },
  {
   "cell_type": "code",
   "execution_count": 114,
   "metadata": {},
   "outputs": [
    {
     "name": "stdout",
     "output_type": "stream",
     "text": [
      "(5220, 1)\n"
     ]
    }
   ],
   "source": [
    "print(kek.shape)"
   ]
  },
  {
   "cell_type": "code",
   "execution_count": null,
   "metadata": {},
   "outputs": [],
   "source": []
  },
  {
   "cell_type": "code",
   "execution_count": null,
   "metadata": {},
   "outputs": [],
   "source": []
  },
  {
   "cell_type": "code",
   "execution_count": null,
   "metadata": {},
   "outputs": [],
   "source": []
  },
  {
   "cell_type": "code",
   "execution_count": null,
   "metadata": {},
   "outputs": [],
   "source": []
  },
  {
   "cell_type": "code",
   "execution_count": 134,
   "metadata": {},
   "outputs": [],
   "source": [
    "a = [i%2 for i in range(5221)]"
   ]
  },
  {
   "cell_type": "code",
   "execution_count": 135,
   "metadata": {},
   "outputs": [
    {
     "data": {
      "text/plain": [
       "5221"
      ]
     },
     "execution_count": 135,
     "metadata": {},
     "output_type": "execute_result"
    }
   ],
   "source": [
    "len(a)"
   ]
  },
  {
   "cell_type": "code",
   "execution_count": 145,
   "metadata": {},
   "outputs": [],
   "source": [
    "a = [i%2 for i in range(5221)]\n",
    "random.shuffle(a)\n",
    "random.shuffle(a)\n",
    "random.shuffle(a)\n",
    "random.shuffle(a)\n",
    "random.shuffle(a)\n",
    "random.shuffle(a)\n",
    "random.shuffle(a)\n",
    "random.shuffle(a)\n",
    "random.shuffle(a)\n",
    "random.shuffle(a)\n",
    "random.shuffle(a)\n",
    "random.shuffle(a)\n",
    "random.shuffle(a)\n",
    "random.shuffle(a)\n",
    "random.shuffle(a)\n",
    "random.shuffle(a)\n",
    "random.shuffle(a)\n",
    "random.shuffle(a)\n",
    "random.shuffle(a)\n",
    "random.shuffle(a)\n",
    "random.shuffle(a)\n",
    "random.shuffle(a)\n",
    "random.shuffle(a)\n",
    "with open(\"kek\",\"w\") as file:\n",
    "    for i in a:\n",
    "        print(i,file=file)"
   ]
  },
  {
   "cell_type": "code",
   "execution_count": 144,
   "metadata": {},
   "outputs": [],
   "source": [
    "with open(\"kek\",\"w\") as file:\n",
    "    for i in a:\n",
    "        print(i,file=file)"
   ]
  },
  {
   "cell_type": "code",
   "execution_count": null,
   "metadata": {},
   "outputs": [],
   "source": []
  },
  {
   "cell_type": "code",
   "execution_count": null,
   "metadata": {},
   "outputs": [],
   "source": []
  },
  {
   "cell_type": "code",
   "execution_count": null,
   "metadata": {},
   "outputs": [],
   "source": [
    "select * from subs_csi JOIN subs_bs_consumption\n"
   ]
  }
 ],
 "metadata": {
  "kernelspec": {
   "display_name": "Python 3",
   "language": "python",
   "name": "python3"
  },
  "language_info": {
   "codemirror_mode": {
    "name": "ipython",
    "version": 3
   },
   "file_extension": ".py",
   "mimetype": "text/x-python",
   "name": "python",
   "nbconvert_exporter": "python",
   "pygments_lexer": "ipython3",
   "version": "3.7.1"
  }
 },
 "nbformat": 4,
 "nbformat_minor": 2
}
