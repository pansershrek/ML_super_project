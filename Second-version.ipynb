{
 "cells": [
  {
   "cell_type": "code",
   "execution_count": null,
   "metadata": {},
   "outputs": [],
   "source": [
    "0.5045877 194 место"
   ]
  },
  {
   "cell_type": "code",
   "execution_count": null,
   "metadata": {},
   "outputs": [],
   "source": [
    "import pandas as pd\n",
    "import numpy as np\n",
    "import matplotlib.pyplot as plt"
   ]
  },
  {
   "cell_type": "code",
   "execution_count": 4,
   "metadata": {},
   "outputs": [],
   "source": [
    "train = pd.read_csv('/media/derin/DATA/Machine Learning/Megafon/condition_csi/dataset/train/subs_features_train.csv',sep=\";\")"
   ]
  },
  {
   "cell_type": "code",
   "execution_count": 5,
   "metadata": {},
   "outputs": [],
   "source": [
    "test = pd.read_csv('/media/derin/DATA/Machine Learning/Megafon/condition_csi/dataset/test/subs_features_test.csv',sep=\";\")"
   ]
  },
  {
   "cell_type": "code",
   "execution_count": 6,
   "metadata": {},
   "outputs": [],
   "source": [
    "train = train.sort_values('SK_ID', ascending=False)"
   ]
  },
  {
   "cell_type": "code",
   "execution_count": 7,
   "metadata": {},
   "outputs": [],
   "source": [
    "test = test.sort_values('SK_ID', ascending=False)"
   ]
  },
  {
   "cell_type": "code",
   "execution_count": 8,
   "metadata": {},
   "outputs": [],
   "source": [
    "train = train.reset_index(drop = True) # делаю индексы 0,1,2..."
   ]
  },
  {
   "cell_type": "code",
   "execution_count": 9,
   "metadata": {},
   "outputs": [],
   "source": [
    "test = test.reset_index(drop = True)  # делаю индексы 0,1,2..."
   ]
  },
  {
   "cell_type": "code",
   "execution_count": 10,
   "metadata": {},
   "outputs": [],
   "source": [
    "#результаты для train\n",
    "ans = pd.read_csv('/media/derin/DATA/Machine Learning/Megafon/condition_csi/dataset/train/subs_csi_train.csv',sep=\";\")"
   ]
  },
  {
   "cell_type": "code",
   "execution_count": 11,
   "metadata": {},
   "outputs": [],
   "source": [
    "train = train.replace(np.nan, -1)"
   ]
  },
  {
   "cell_type": "code",
   "execution_count": 12,
   "metadata": {},
   "outputs": [],
   "source": [
    "test = test.replace(np.nan, -1)"
   ]
  },
  {
   "cell_type": "code",
   "execution_count": 13,
   "metadata": {},
   "outputs": [],
   "source": [
    "#убираем SNAP_DATE\n",
    "train = train[['COM_CAT#1', 'SK_ID', 'COM_CAT#2', 'COM_CAT#3',        'BASE_TYPE', 'ACT', 'ARPU_GROUP', 'COM_CAT#7', 'COM_CAT#8', 'DEVICE_TYPE_ID', 'INTERNET_TYPE_ID', 'REVENUE', 'ITC', 'VAS', 'RENT_CHANNEL', 'ROAM', 'COST', 'COM_CAT#17', 'COM_CAT#18', 'COM_CAT#19', 'COM_CAT#20', 'COM_CAT#21', 'COM_CAT#22', 'COM_CAT#23', 'COM_CAT#24', 'COM_CAT#25', 'COM_CAT#26', 'COM_CAT#27', 'COM_CAT#28', 'COM_CAT#29', 'COM_CAT#30', 'COM_CAT#31', 'COM_CAT#32', 'COM_CAT#33', 'COM_CAT#34']]\n",
    "test = test[['COM_CAT#1', 'SK_ID', 'COM_CAT#2', 'COM_CAT#3',        'BASE_TYPE', 'ACT', 'ARPU_GROUP', 'COM_CAT#7', 'COM_CAT#8', 'DEVICE_TYPE_ID', 'INTERNET_TYPE_ID', 'REVENUE', 'ITC', 'VAS', 'RENT_CHANNEL', 'ROAM', 'COST', 'COM_CAT#17', 'COM_CAT#18', 'COM_CAT#19', 'COM_CAT#20', 'COM_CAT#21', 'COM_CAT#22', 'COM_CAT#23', 'COM_CAT#24', 'COM_CAT#25', 'COM_CAT#26', 'COM_CAT#27', 'COM_CAT#28', 'COM_CAT#29', 'COM_CAT#30', 'COM_CAT#31', 'COM_CAT#32', 'COM_CAT#33', 'COM_CAT#34']] "
   ]
  },
  {
   "cell_type": "code",
   "execution_count": 14,
   "metadata": {},
   "outputs": [],
   "source": [
    "numbers_features = []"
   ]
  },
  {
   "cell_type": "code",
   "execution_count": 15,
   "metadata": {},
   "outputs": [],
   "source": [
    "#преобразуем str в float64 для train,03434 -> 0.03434\n",
    "for name in train.columns:\n",
    "    if (type(train[name][0]) == type('')):\n",
    "        train[name] = np.float64('0' + train[name].str.replace(',', '.'))\n",
    "        numbers_features.append(name)"
   ]
  },
  {
   "cell_type": "code",
   "execution_count": 16,
   "metadata": {},
   "outputs": [],
   "source": [
    "#преобразуем str в float64 для test,03434 -> 0.03434\n",
    "for name in test.columns:\n",
    "    if (type(test[name][0]) == type('')):\n",
    "        test[name] = np.float64('0' + test[name].str.replace(',', '.'))"
   ]
  },
  {
   "cell_type": "code",
   "execution_count": 17,
   "metadata": {},
   "outputs": [
    {
     "data": {
      "text/plain": [
       "['REVENUE',\n",
       " 'ITC',\n",
       " 'VAS',\n",
       " 'RENT_CHANNEL',\n",
       " 'ROAM',\n",
       " 'COST',\n",
       " 'COM_CAT#17',\n",
       " 'COM_CAT#18',\n",
       " 'COM_CAT#19',\n",
       " 'COM_CAT#20',\n",
       " 'COM_CAT#21',\n",
       " 'COM_CAT#22',\n",
       " 'COM_CAT#23',\n",
       " 'COM_CAT#27',\n",
       " 'COM_CAT#28',\n",
       " 'COM_CAT#29',\n",
       " 'COM_CAT#30',\n",
       " 'COM_CAT#31',\n",
       " 'COM_CAT#32',\n",
       " 'COM_CAT#33']"
      ]
     },
     "execution_count": 17,
     "metadata": {},
     "output_type": "execute_result"
    }
   ],
   "source": [
    "#количественные признаки\n",
    "numbers_features"
   ]
  },
  {
   "cell_type": "code",
   "execution_count": 18,
   "metadata": {},
   "outputs": [],
   "source": [
    "#качественные признаки\n",
    "type_features = []\n",
    "for i in train.columns.values:\n",
    "    if not i in numbers_features:\n",
    "        type_features.append(i)"
   ]
  },
  {
   "cell_type": "code",
   "execution_count": 21,
   "metadata": {},
   "outputs": [],
   "source": [
    "#преобразуем train/test для одного SK_ID - одна строка (значения для качественных признаков - голосованием,\n",
    "#для количественных - медианой) \n",
    "def new(df):\n",
    "    new_df = pd.DataFrame()\n",
    "    for name in train.columns.values:\n",
    "        new_df[name] = [np.float32(-1.0)]\n",
    "    new_df['SK_ID'] = [int(-1)]\n",
    "    for cur_id in df['SK_ID'].unique():\n",
    "        part_df = df[df['SK_ID'] == cur_id]\n",
    "        new_line = copy.copy(new_df.loc[0])\n",
    "        for name in new_df.columns.values:\n",
    "                if name in type_features:\n",
    "                    new_line[name] = part_df[name].value_counts().idxmax()\n",
    "                else:\n",
    "                    new_line[name] = part_df[name].median()\n",
    "                            \n",
    "        new_line['SK_ID'] = cur_id\n",
    "        new_df.loc[np.shape(new_df)[0]] = new_line     \n",
    "        \n",
    "        \n",
    "    return new_df"
   ]
  },
  {
   "cell_type": "code",
   "execution_count": 22,
   "metadata": {},
   "outputs": [],
   "source": [
    "ntrain = new(train)"
   ]
  },
  {
   "cell_type": "code",
   "execution_count": 23,
   "metadata": {},
   "outputs": [],
   "source": [
    "ntest = new(test)"
   ]
  },
  {
   "cell_type": "code",
   "execution_count": 24,
   "metadata": {},
   "outputs": [],
   "source": [
    "#убираем первую строку(она была техническая, чтобы dataframe сделать)\n",
    "ntrain = ntrain.loc[1:]"
   ]
  },
  {
   "cell_type": "code",
   "execution_count": 36,
   "metadata": {},
   "outputs": [],
   "source": [
    "ntrain = ntrain.reset_index(drop = True) #делаем индексы 0,1,2..."
   ]
  },
  {
   "cell_type": "code",
   "execution_count": 25,
   "metadata": {},
   "outputs": [],
   "source": [
    "#убираем первую строку(она была техническая, чтобы dataframe сделать)\n",
    "ntest = ntest.loc[1:]"
   ]
  },
  {
   "cell_type": "code",
   "execution_count": 38,
   "metadata": {},
   "outputs": [],
   "source": [
    "ntest = ntest.reset_index(drop = True) #делаем индексы 0,1,2..."
   ]
  },
  {
   "cell_type": "code",
   "execution_count": 26,
   "metadata": {},
   "outputs": [],
   "source": [
    "#делаем в ntrain столбы такого же типа, как в train(они почему-то были все float)\n",
    "for name in ntrain.columns.values:\n",
    "    ntrain[name] = type(train[name].loc[3])(ntrain[name])"
   ]
  },
  {
   "cell_type": "code",
   "execution_count": 27,
   "metadata": {},
   "outputs": [],
   "source": [
    "#делаем в ntrain столбы такого же типа, как в train(они почему-то были все float)\n",
    "for name in ntest.columns.values:\n",
    "    ntest[name] = type(test[name].loc[3])(ntest[name])"
   ]
  },
  {
   "cell_type": "code",
   "execution_count": 28,
   "metadata": {},
   "outputs": [],
   "source": [
    "# ans - это subs_csi_train - то есть 0 и 1 в train\n",
    "ans = ans.sort_values('SK_ID', ascending=False)"
   ]
  },
  {
   "cell_type": "code",
   "execution_count": 42,
   "metadata": {},
   "outputs": [],
   "source": [
    "ans = ans.reset_index(drop = True) #индексы 0,1,2..."
   ]
  },
  {
   "cell_type": "code",
   "execution_count": 29,
   "metadata": {},
   "outputs": [],
   "source": [
    "#это те индексы, для которых мы предсказываем\n",
    "index_test = pd.read_csv('/media/derin/DATA/Machine Learning/Megafon/condition_csi/dataset/test/subs_csi_test.csv',sep=\";\")"
   ]
  },
  {
   "cell_type": "code",
   "execution_count": 53,
   "metadata": {},
   "outputs": [],
   "source": [
    "#так формирую DataFrame\n",
    "itog_test = ntest.loc[0:0]"
   ]
  },
  {
   "cell_type": "code",
   "execution_count": 54,
   "metadata": {},
   "outputs": [
    {
     "data": {
      "text/html": [
       "<div>\n",
       "<style scoped>\n",
       "    .dataframe tbody tr th:only-of-type {\n",
       "        vertical-align: middle;\n",
       "    }\n",
       "\n",
       "    .dataframe tbody tr th {\n",
       "        vertical-align: top;\n",
       "    }\n",
       "\n",
       "    .dataframe thead th {\n",
       "        text-align: right;\n",
       "    }\n",
       "</style>\n",
       "<table border=\"1\" class=\"dataframe\">\n",
       "  <thead>\n",
       "    <tr style=\"text-align: right;\">\n",
       "      <th></th>\n",
       "      <th>COM_CAT#1</th>\n",
       "      <th>SK_ID</th>\n",
       "      <th>COM_CAT#2</th>\n",
       "      <th>COM_CAT#3</th>\n",
       "      <th>BASE_TYPE</th>\n",
       "      <th>ACT</th>\n",
       "      <th>ARPU_GROUP</th>\n",
       "      <th>COM_CAT#7</th>\n",
       "      <th>COM_CAT#8</th>\n",
       "      <th>DEVICE_TYPE_ID</th>\n",
       "      <th>...</th>\n",
       "      <th>COM_CAT#25</th>\n",
       "      <th>COM_CAT#26</th>\n",
       "      <th>COM_CAT#27</th>\n",
       "      <th>COM_CAT#28</th>\n",
       "      <th>COM_CAT#29</th>\n",
       "      <th>COM_CAT#30</th>\n",
       "      <th>COM_CAT#31</th>\n",
       "      <th>COM_CAT#32</th>\n",
       "      <th>COM_CAT#33</th>\n",
       "      <th>COM_CAT#34</th>\n",
       "    </tr>\n",
       "  </thead>\n",
       "  <tbody>\n",
       "    <tr>\n",
       "      <th>0</th>\n",
       "      <td>1</td>\n",
       "      <td>9748</td>\n",
       "      <td>30</td>\n",
       "      <td>5</td>\n",
       "      <td>2</td>\n",
       "      <td>1</td>\n",
       "      <td>6.0</td>\n",
       "      <td>7</td>\n",
       "      <td>1325.0</td>\n",
       "      <td>5.0</td>\n",
       "      <td>...</td>\n",
       "      <td>1</td>\n",
       "      <td>1</td>\n",
       "      <td>0.001855</td>\n",
       "      <td>0.004912</td>\n",
       "      <td>0.000064</td>\n",
       "      <td>0.000034</td>\n",
       "      <td>0.006705</td>\n",
       "      <td>0.027579</td>\n",
       "      <td>0.103896</td>\n",
       "      <td>9.0</td>\n",
       "    </tr>\n",
       "  </tbody>\n",
       "</table>\n",
       "<p>1 rows × 35 columns</p>\n",
       "</div>"
      ],
      "text/plain": [
       "   COM_CAT#1  SK_ID  COM_CAT#2  COM_CAT#3  BASE_TYPE  ACT  ARPU_GROUP  \\\n",
       "0          1   9748         30          5          2    1         6.0   \n",
       "\n",
       "   COM_CAT#7  COM_CAT#8  DEVICE_TYPE_ID     ...      COM_CAT#25  COM_CAT#26  \\\n",
       "0          7     1325.0             5.0     ...               1           1   \n",
       "\n",
       "   COM_CAT#27  COM_CAT#28  COM_CAT#29  COM_CAT#30  COM_CAT#31  COM_CAT#32  \\\n",
       "0    0.001855    0.004912    0.000064    0.000034    0.006705    0.027579   \n",
       "\n",
       "   COM_CAT#33  COM_CAT#34  \n",
       "0    0.103896         9.0  \n",
       "\n",
       "[1 rows x 35 columns]"
      ]
     },
     "execution_count": 54,
     "metadata": {},
     "output_type": "execute_result"
    }
   ],
   "source": [
    "itog_test"
   ]
  },
  {
   "cell_type": "code",
   "execution_count": 55,
   "metadata": {
    "scrolled": true
   },
   "outputs": [
    {
     "name": "stderr",
     "output_type": "stream",
     "text": [
      "/home/derin/.local/lib/python3.5/site-packages/ipykernel_launcher.py:5: SettingWithCopyWarning: \n",
      "A value is trying to be set on a copy of a slice from a DataFrame\n",
      "\n",
      "See the caveats in the documentation: http://pandas.pydata.org/pandas-docs/stable/indexing.html#indexing-view-versus-copy\n",
      "  \"\"\"\n"
     ]
    }
   ],
   "source": [
    "#делаю для id из index_test - строки из subs_features_test.csv(создаю test, \n",
    "#в котором SK_ID в том же порядке, как требуют)\n",
    "lens_itog = 1\n",
    "for cur_id in index_test['SK_ID']:\n",
    "    if (np.shape(ntest[ntest['SK_ID'] == cur_id])[0] > 0):\n",
    "        itog_test.loc[lens_itog] = (ntest[ntest['SK_ID'] == cur_id].reset_index()).loc[0]\n",
    "    else:\n",
    "        nl = ntrain.loc[:1]\n",
    "        for name1 in nl.columns.values:\n",
    "            nl[name1] = -1\n",
    "        nl['SK_ID'] = cur_id\n",
    "        itog_test.loc[lens_itog] = nl.loc[1]\n",
    "    lens_itog += 1\n",
    "    \n",
    "    "
   ]
  },
  {
   "cell_type": "code",
   "execution_count": 57,
   "metadata": {},
   "outputs": [
    {
     "data": {
      "text/html": [
       "<div>\n",
       "<style scoped>\n",
       "    .dataframe tbody tr th:only-of-type {\n",
       "        vertical-align: middle;\n",
       "    }\n",
       "\n",
       "    .dataframe tbody tr th {\n",
       "        vertical-align: top;\n",
       "    }\n",
       "\n",
       "    .dataframe thead th {\n",
       "        text-align: right;\n",
       "    }\n",
       "</style>\n",
       "<table border=\"1\" class=\"dataframe\">\n",
       "  <thead>\n",
       "    <tr style=\"text-align: right;\">\n",
       "      <th></th>\n",
       "      <th>COM_CAT#1</th>\n",
       "      <th>SK_ID</th>\n",
       "      <th>COM_CAT#2</th>\n",
       "      <th>COM_CAT#3</th>\n",
       "      <th>BASE_TYPE</th>\n",
       "      <th>ACT</th>\n",
       "      <th>ARPU_GROUP</th>\n",
       "      <th>COM_CAT#7</th>\n",
       "      <th>COM_CAT#8</th>\n",
       "      <th>DEVICE_TYPE_ID</th>\n",
       "      <th>...</th>\n",
       "      <th>COM_CAT#25</th>\n",
       "      <th>COM_CAT#26</th>\n",
       "      <th>COM_CAT#27</th>\n",
       "      <th>COM_CAT#28</th>\n",
       "      <th>COM_CAT#29</th>\n",
       "      <th>COM_CAT#30</th>\n",
       "      <th>COM_CAT#31</th>\n",
       "      <th>COM_CAT#32</th>\n",
       "      <th>COM_CAT#33</th>\n",
       "      <th>COM_CAT#34</th>\n",
       "    </tr>\n",
       "  </thead>\n",
       "  <tbody>\n",
       "    <tr>\n",
       "      <th>0</th>\n",
       "      <td>1.0</td>\n",
       "      <td>9748.0</td>\n",
       "      <td>30.0</td>\n",
       "      <td>5.0</td>\n",
       "      <td>2.0</td>\n",
       "      <td>1.0</td>\n",
       "      <td>6.0</td>\n",
       "      <td>7.0</td>\n",
       "      <td>1325.0</td>\n",
       "      <td>5.0</td>\n",
       "      <td>...</td>\n",
       "      <td>1.0</td>\n",
       "      <td>1.0</td>\n",
       "      <td>0.001855</td>\n",
       "      <td>0.004912</td>\n",
       "      <td>0.000064</td>\n",
       "      <td>0.000034</td>\n",
       "      <td>0.006705</td>\n",
       "      <td>0.027579</td>\n",
       "      <td>0.103896</td>\n",
       "      <td>9.0</td>\n",
       "    </tr>\n",
       "    <tr>\n",
       "      <th>1</th>\n",
       "      <td>4.0</td>\n",
       "      <td>6184.0</td>\n",
       "      <td>50.0</td>\n",
       "      <td>5.0</td>\n",
       "      <td>2.0</td>\n",
       "      <td>1.0</td>\n",
       "      <td>6.0</td>\n",
       "      <td>2.0</td>\n",
       "      <td>136.0</td>\n",
       "      <td>5.0</td>\n",
       "      <td>...</td>\n",
       "      <td>1.0</td>\n",
       "      <td>1.0</td>\n",
       "      <td>0.009586</td>\n",
       "      <td>0.010298</td>\n",
       "      <td>0.000044</td>\n",
       "      <td>0.000188</td>\n",
       "      <td>0.019549</td>\n",
       "      <td>0.027579</td>\n",
       "      <td>0.103896</td>\n",
       "      <td>9.0</td>\n",
       "    </tr>\n",
       "    <tr>\n",
       "      <th>2</th>\n",
       "      <td>3.0</td>\n",
       "      <td>5175.0</td>\n",
       "      <td>24.0</td>\n",
       "      <td>5.0</td>\n",
       "      <td>2.0</td>\n",
       "      <td>1.0</td>\n",
       "      <td>10.0</td>\n",
       "      <td>1.0</td>\n",
       "      <td>149.0</td>\n",
       "      <td>5.0</td>\n",
       "      <td>...</td>\n",
       "      <td>1.0</td>\n",
       "      <td>1.0</td>\n",
       "      <td>0.034592</td>\n",
       "      <td>0.030623</td>\n",
       "      <td>0.063411</td>\n",
       "      <td>0.000237</td>\n",
       "      <td>0.048608</td>\n",
       "      <td>0.027579</td>\n",
       "      <td>0.103896</td>\n",
       "      <td>2.0</td>\n",
       "    </tr>\n",
       "    <tr>\n",
       "      <th>3</th>\n",
       "      <td>6.0</td>\n",
       "      <td>5478.0</td>\n",
       "      <td>55.0</td>\n",
       "      <td>5.0</td>\n",
       "      <td>2.0</td>\n",
       "      <td>1.0</td>\n",
       "      <td>5.0</td>\n",
       "      <td>3.0</td>\n",
       "      <td>962.0</td>\n",
       "      <td>3.0</td>\n",
       "      <td>...</td>\n",
       "      <td>1.0</td>\n",
       "      <td>1.0</td>\n",
       "      <td>0.015872</td>\n",
       "      <td>0.000800</td>\n",
       "      <td>0.000000</td>\n",
       "      <td>0.000000</td>\n",
       "      <td>0.090086</td>\n",
       "      <td>0.027579</td>\n",
       "      <td>0.103896</td>\n",
       "      <td>1.0</td>\n",
       "    </tr>\n",
       "    <tr>\n",
       "      <th>4</th>\n",
       "      <td>6.0</td>\n",
       "      <td>7807.0</td>\n",
       "      <td>71.0</td>\n",
       "      <td>9.0</td>\n",
       "      <td>1.0</td>\n",
       "      <td>1.0</td>\n",
       "      <td>6.0</td>\n",
       "      <td>2.0</td>\n",
       "      <td>144.0</td>\n",
       "      <td>5.0</td>\n",
       "      <td>...</td>\n",
       "      <td>1.0</td>\n",
       "      <td>1.0</td>\n",
       "      <td>0.008567</td>\n",
       "      <td>0.014240</td>\n",
       "      <td>0.010308</td>\n",
       "      <td>0.000053</td>\n",
       "      <td>0.065341</td>\n",
       "      <td>0.027579</td>\n",
       "      <td>0.103896</td>\n",
       "      <td>-1.0</td>\n",
       "    </tr>\n",
       "  </tbody>\n",
       "</table>\n",
       "<p>5 rows × 35 columns</p>\n",
       "</div>"
      ],
      "text/plain": [
       "   COM_CAT#1   SK_ID  COM_CAT#2  COM_CAT#3  BASE_TYPE  ACT  ARPU_GROUP  \\\n",
       "0        1.0  9748.0       30.0        5.0        2.0  1.0         6.0   \n",
       "1        4.0  6184.0       50.0        5.0        2.0  1.0         6.0   \n",
       "2        3.0  5175.0       24.0        5.0        2.0  1.0        10.0   \n",
       "3        6.0  5478.0       55.0        5.0        2.0  1.0         5.0   \n",
       "4        6.0  7807.0       71.0        9.0        1.0  1.0         6.0   \n",
       "\n",
       "   COM_CAT#7  COM_CAT#8  DEVICE_TYPE_ID     ...      COM_CAT#25  COM_CAT#26  \\\n",
       "0        7.0     1325.0             5.0     ...             1.0         1.0   \n",
       "1        2.0      136.0             5.0     ...             1.0         1.0   \n",
       "2        1.0      149.0             5.0     ...             1.0         1.0   \n",
       "3        3.0      962.0             3.0     ...             1.0         1.0   \n",
       "4        2.0      144.0             5.0     ...             1.0         1.0   \n",
       "\n",
       "   COM_CAT#27  COM_CAT#28  COM_CAT#29  COM_CAT#30  COM_CAT#31  COM_CAT#32  \\\n",
       "0    0.001855    0.004912    0.000064    0.000034    0.006705    0.027579   \n",
       "1    0.009586    0.010298    0.000044    0.000188    0.019549    0.027579   \n",
       "2    0.034592    0.030623    0.063411    0.000237    0.048608    0.027579   \n",
       "3    0.015872    0.000800    0.000000    0.000000    0.090086    0.027579   \n",
       "4    0.008567    0.014240    0.010308    0.000053    0.065341    0.027579   \n",
       "\n",
       "   COM_CAT#33  COM_CAT#34  \n",
       "0    0.103896         9.0  \n",
       "1    0.103896         9.0  \n",
       "2    0.103896         2.0  \n",
       "3    0.103896         1.0  \n",
       "4    0.103896        -1.0  \n",
       "\n",
       "[5 rows x 35 columns]"
      ]
     },
     "execution_count": 57,
     "metadata": {},
     "output_type": "execute_result"
    }
   ],
   "source": [
    "itog_test.head()"
   ]
  },
  {
   "cell_type": "code",
   "execution_count": 58,
   "metadata": {},
   "outputs": [],
   "source": [
    "#убираю строку(которой формировала DataFrame)\n",
    "itog_test = ((itog_test.reset_index(drop = True)).loc[1:]).reset_index(drop = True)"
   ]
  },
  {
   "cell_type": "code",
   "execution_count": 59,
   "metadata": {},
   "outputs": [
    {
     "data": {
      "text/plain": [
       "(5221, 35)"
      ]
     },
     "execution_count": 59,
     "metadata": {},
     "output_type": "execute_result"
    }
   ],
   "source": [
    "np.shape(itog_test)"
   ]
  },
  {
   "cell_type": "code",
   "execution_count": 60,
   "metadata": {},
   "outputs": [],
   "source": [
    "y = ans['CSI']"
   ]
  },
  {
   "cell_type": "code",
   "execution_count": 63,
   "metadata": {},
   "outputs": [],
   "source": [
    "X = ntrain.values"
   ]
  },
  {
   "cell_type": "code",
   "execution_count": 65,
   "metadata": {},
   "outputs": [
    {
     "data": {
      "text/plain": [
       "(4222, 35)"
      ]
     },
     "execution_count": 65,
     "metadata": {},
     "output_type": "execute_result"
    }
   ],
   "source": [
    "np.shape(X)"
   ]
  },
  {
   "cell_type": "code",
   "execution_count": 66,
   "metadata": {},
   "outputs": [],
   "source": [
    "import sklearn.ensemble\n",
    "from sklearn.preprocessing import minmax_scale\n",
    "from sklearn.model_selection import KFold\n",
    "from sklearn.metrics import mean_absolute_error"
   ]
  },
  {
   "cell_type": "code",
   "execution_count": 67,
   "metadata": {},
   "outputs": [
    {
     "name": "stderr",
     "output_type": "stream",
     "text": [
      "/home/derin/.local/lib/python3.5/site-packages/sklearn/ensemble/forest.py:248: FutureWarning: The default value of n_estimators will change from 10 in version 0.20 to 100 in 0.22.\n",
      "  \"10 in version 0.20 to 100 in 0.22.\", FutureWarning)\n",
      "/home/derin/.local/lib/python3.5/site-packages/sklearn/ensemble/forest.py:248: FutureWarning: The default value of n_estimators will change from 10 in version 0.20 to 100 in 0.22.\n",
      "  \"10 in version 0.20 to 100 in 0.22.\", FutureWarning)\n",
      "/home/derin/.local/lib/python3.5/site-packages/sklearn/ensemble/forest.py:248: FutureWarning: The default value of n_estimators will change from 10 in version 0.20 to 100 in 0.22.\n",
      "  \"10 in version 0.20 to 100 in 0.22.\", FutureWarning)\n",
      "/home/derin/.local/lib/python3.5/site-packages/sklearn/ensemble/forest.py:248: FutureWarning: The default value of n_estimators will change from 10 in version 0.20 to 100 in 0.22.\n",
      "  \"10 in version 0.20 to 100 in 0.22.\", FutureWarning)\n",
      "/home/derin/.local/lib/python3.5/site-packages/sklearn/ensemble/forest.py:248: FutureWarning: The default value of n_estimators will change from 10 in version 0.20 to 100 in 0.22.\n",
      "  \"10 in version 0.20 to 100 in 0.22.\", FutureWarning)\n",
      "/home/derin/.local/lib/python3.5/site-packages/sklearn/ensemble/forest.py:248: FutureWarning: The default value of n_estimators will change from 10 in version 0.20 to 100 in 0.22.\n",
      "  \"10 in version 0.20 to 100 in 0.22.\", FutureWarning)\n",
      "/home/derin/.local/lib/python3.5/site-packages/sklearn/ensemble/forest.py:248: FutureWarning: The default value of n_estimators will change from 10 in version 0.20 to 100 in 0.22.\n",
      "  \"10 in version 0.20 to 100 in 0.22.\", FutureWarning)\n"
     ]
    },
    {
     "data": {
      "text/plain": [
       "0.5047759613528944"
      ]
     },
     "execution_count": 67,
     "metadata": {},
     "output_type": "execute_result"
    }
   ],
   "source": [
    "calc(sklearn.ensemble.RandomForestClassifier(), X, y)"
   ]
  },
  {
   "cell_type": "code",
   "execution_count": 68,
   "metadata": {},
   "outputs": [],
   "source": [
    "Xt = itog_test.values"
   ]
  },
  {
   "cell_type": "code",
   "execution_count": 69,
   "metadata": {},
   "outputs": [],
   "source": [
    "y = y.values"
   ]
  },
  {
   "cell_type": "code",
   "execution_count": 70,
   "metadata": {},
   "outputs": [
    {
     "name": "stderr",
     "output_type": "stream",
     "text": [
      "/home/derin/.local/lib/python3.5/site-packages/sklearn/ensemble/forest.py:248: FutureWarning: The default value of n_estimators will change from 10 in version 0.20 to 100 in 0.22.\n",
      "  \"10 in version 0.20 to 100 in 0.22.\", FutureWarning)\n"
     ]
    },
    {
     "data": {
      "text/plain": [
       "RandomForestClassifier(bootstrap=True, class_weight=None, criterion='gini',\n",
       "            max_depth=None, max_features='auto', max_leaf_nodes=None,\n",
       "            min_impurity_decrease=0.0, min_impurity_split=None,\n",
       "            min_samples_leaf=1, min_samples_split=2,\n",
       "            min_weight_fraction_leaf=0.0, n_estimators=10, n_jobs=None,\n",
       "            oob_score=False, random_state=None, verbose=0,\n",
       "            warm_start=False)"
      ]
     },
     "execution_count": 70,
     "metadata": {},
     "output_type": "execute_result"
    }
   ],
   "source": [
    "import sklearn.ensemble\n",
    "model = sklearn.ensemble.RandomForestClassifier()\n",
    "model.fit(X, y)"
   ]
  },
  {
   "cell_type": "code",
   "execution_count": 71,
   "metadata": {},
   "outputs": [],
   "source": [
    "y_pred = model.predict(Xt)"
   ]
  },
  {
   "cell_type": "code",
   "execution_count": 72,
   "metadata": {},
   "outputs": [
    {
     "data": {
      "text/plain": [
       "5221"
      ]
     },
     "execution_count": 72,
     "metadata": {},
     "output_type": "execute_result"
    }
   ],
   "source": [
    "len(y_pred)"
   ]
  },
  {
   "cell_type": "code",
   "execution_count": 79,
   "metadata": {},
   "outputs": [],
   "source": [
    "for i in range(len(y_pred)):\n",
    "    if (y_pred[i] == 0):\n",
    "        y_pred[i] = 1\n",
    "    else:\n",
    "        y_pred[i] = 0\n"
   ]
  },
  {
   "cell_type": "code",
   "execution_count": 80,
   "metadata": {},
   "outputs": [
    {
     "data": {
      "text/plain": [
       "array([1, 1, 1, ..., 1, 1, 1])"
      ]
     },
     "execution_count": 80,
     "metadata": {},
     "output_type": "execute_result"
    }
   ],
   "source": [
    "y_pred"
   ]
  },
  {
   "cell_type": "code",
   "execution_count": 81,
   "metadata": {},
   "outputs": [
    {
     "data": {
      "text/plain": [
       "(5221,)"
      ]
     },
     "execution_count": 81,
     "metadata": {},
     "output_type": "execute_result"
    }
   ],
   "source": [
    "np.shape(y_pred)"
   ]
  },
  {
   "cell_type": "code",
   "execution_count": 82,
   "metadata": {},
   "outputs": [],
   "source": [
    "pd.DataFrame({'a': y_pred}).to_csv('sub_second_2.csv')"
   ]
  },
  {
   "cell_type": "code",
   "execution_count": null,
   "metadata": {},
   "outputs": [],
   "source": []
  }
 ],
 "metadata": {
  "kernelspec": {
   "display_name": "Python 3",
   "language": "python",
   "name": "python3"
  },
  "language_info": {
   "codemirror_mode": {
    "name": "ipython",
    "version": 3
   },
   "file_extension": ".py",
   "mimetype": "text/x-python",
   "name": "python",
   "nbconvert_exporter": "python",
   "pygments_lexer": "ipython3",
   "version": "3.5.2"
  }
 },
 "nbformat": 4,
 "nbformat_minor": 2
}
