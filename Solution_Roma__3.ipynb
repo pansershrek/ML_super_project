{
 "cells": [
  {
   "cell_type": "code",
   "execution_count": 55,
   "metadata": {},
   "outputs": [],
   "source": [
    "\n",
    "#П: 0.5086155\n",
    "#107 / 154\n",
    "\n",
    "\n",
    "import numpy as np\n",
    "import pandas as pd\n",
    "import re"
   ]
  },
  {
   "cell_type": "code",
   "execution_count": 2,
   "metadata": {},
   "outputs": [
    {
     "data": {
      "text/html": [
       "<div>\n",
       "<style scoped>\n",
       "    .dataframe tbody tr th:only-of-type {\n",
       "        vertical-align: middle;\n",
       "    }\n",
       "\n",
       "    .dataframe tbody tr th {\n",
       "        vertical-align: top;\n",
       "    }\n",
       "\n",
       "    .dataframe thead th {\n",
       "        text-align: right;\n",
       "    }\n",
       "</style>\n",
       "<table border=\"1\" class=\"dataframe\">\n",
       "  <thead>\n",
       "    <tr style=\"text-align: right;\">\n",
       "      <th></th>\n",
       "      <th>SNAP_DATE</th>\n",
       "      <th>COM_CAT#1</th>\n",
       "      <th>SK_ID</th>\n",
       "      <th>COM_CAT#2</th>\n",
       "      <th>COM_CAT#3</th>\n",
       "      <th>BASE_TYPE</th>\n",
       "      <th>ACT</th>\n",
       "      <th>ARPU_GROUP</th>\n",
       "      <th>COM_CAT#7</th>\n",
       "      <th>COM_CAT#8</th>\n",
       "      <th>...</th>\n",
       "      <th>COM_CAT#25</th>\n",
       "      <th>COM_CAT#26</th>\n",
       "      <th>COM_CAT#27</th>\n",
       "      <th>COM_CAT#28</th>\n",
       "      <th>COM_CAT#29</th>\n",
       "      <th>COM_CAT#30</th>\n",
       "      <th>COM_CAT#31</th>\n",
       "      <th>COM_CAT#32</th>\n",
       "      <th>COM_CAT#33</th>\n",
       "      <th>COM_CAT#34</th>\n",
       "    </tr>\n",
       "  </thead>\n",
       "  <tbody>\n",
       "    <tr>\n",
       "      <th>0</th>\n",
       "      <td>01.08.01</td>\n",
       "      <td>4</td>\n",
       "      <td>3339</td>\n",
       "      <td>80</td>\n",
       "      <td>5</td>\n",
       "      <td>2</td>\n",
       "      <td>1</td>\n",
       "      <td>12.0</td>\n",
       "      <td>1</td>\n",
       "      <td>1489.0</td>\n",
       "      <td>...</td>\n",
       "      <td>1</td>\n",
       "      <td>1</td>\n",
       "      <td>,031696</td>\n",
       "      <td>,076724</td>\n",
       "      <td>,040279</td>\n",
       "      <td>,0133</td>\n",
       "      <td>,083382</td>\n",
       "      <td>,027579</td>\n",
       "      <td>,103896</td>\n",
       "      <td>2.0</td>\n",
       "    </tr>\n",
       "    <tr>\n",
       "      <th>1</th>\n",
       "      <td>01.08.01</td>\n",
       "      <td>4</td>\n",
       "      <td>238</td>\n",
       "      <td>75</td>\n",
       "      <td>5</td>\n",
       "      <td>2</td>\n",
       "      <td>1</td>\n",
       "      <td>7.0</td>\n",
       "      <td>1</td>\n",
       "      <td>945.0</td>\n",
       "      <td>...</td>\n",
       "      <td>1</td>\n",
       "      <td>1</td>\n",
       "      <td>,015893</td>\n",
       "      <td>,012981</td>\n",
       "      <td>0</td>\n",
       "      <td>0</td>\n",
       "      <td>,04893</td>\n",
       "      <td>,027579</td>\n",
       "      <td>,103896</td>\n",
       "      <td>3.0</td>\n",
       "    </tr>\n",
       "    <tr>\n",
       "      <th>2</th>\n",
       "      <td>01.08.01</td>\n",
       "      <td>4</td>\n",
       "      <td>4669</td>\n",
       "      <td>43</td>\n",
       "      <td>5</td>\n",
       "      <td>2</td>\n",
       "      <td>1</td>\n",
       "      <td>3.0</td>\n",
       "      <td>3</td>\n",
       "      <td>1033.0</td>\n",
       "      <td>...</td>\n",
       "      <td>1</td>\n",
       "      <td>1</td>\n",
       "      <td>,000415</td>\n",
       "      <td>0</td>\n",
       "      <td>0</td>\n",
       "      <td>0</td>\n",
       "      <td>,009397</td>\n",
       "      <td>,027579</td>\n",
       "      <td>,103896</td>\n",
       "      <td>3.0</td>\n",
       "    </tr>\n",
       "    <tr>\n",
       "      <th>3</th>\n",
       "      <td>01.08.01</td>\n",
       "      <td>4</td>\n",
       "      <td>2555</td>\n",
       "      <td>54</td>\n",
       "      <td>5</td>\n",
       "      <td>2</td>\n",
       "      <td>1</td>\n",
       "      <td>12.0</td>\n",
       "      <td>1</td>\n",
       "      <td>512.0</td>\n",
       "      <td>...</td>\n",
       "      <td>1</td>\n",
       "      <td>1</td>\n",
       "      <td>,04651</td>\n",
       "      <td>,039486</td>\n",
       "      <td>,000829</td>\n",
       "      <td>0</td>\n",
       "      <td>,196676</td>\n",
       "      <td>,027579</td>\n",
       "      <td>,103896</td>\n",
       "      <td>1.0</td>\n",
       "    </tr>\n",
       "    <tr>\n",
       "      <th>4</th>\n",
       "      <td>01.08.01</td>\n",
       "      <td>4</td>\n",
       "      <td>2291</td>\n",
       "      <td>38</td>\n",
       "      <td>5</td>\n",
       "      <td>2</td>\n",
       "      <td>1</td>\n",
       "      <td>7.0</td>\n",
       "      <td>1</td>\n",
       "      <td>1268.0</td>\n",
       "      <td>...</td>\n",
       "      <td>1</td>\n",
       "      <td>1</td>\n",
       "      <td>,005393</td>\n",
       "      <td>,007385</td>\n",
       "      <td>,003884</td>\n",
       "      <td>0</td>\n",
       "      <td>,047297</td>\n",
       "      <td>,027579</td>\n",
       "      <td>,103896</td>\n",
       "      <td>6.0</td>\n",
       "    </tr>\n",
       "  </tbody>\n",
       "</table>\n",
       "<p>5 rows × 36 columns</p>\n",
       "</div>"
      ],
      "text/plain": [
       "  SNAP_DATE  COM_CAT#1  SK_ID  COM_CAT#2  COM_CAT#3  BASE_TYPE  ACT  \\\n",
       "0  01.08.01          4   3339         80          5          2    1   \n",
       "1  01.08.01          4    238         75          5          2    1   \n",
       "2  01.08.01          4   4669         43          5          2    1   \n",
       "3  01.08.01          4   2555         54          5          2    1   \n",
       "4  01.08.01          4   2291         38          5          2    1   \n",
       "\n",
       "   ARPU_GROUP  COM_CAT#7  COM_CAT#8    ...      COM_CAT#25  COM_CAT#26  \\\n",
       "0        12.0          1     1489.0    ...               1           1   \n",
       "1         7.0          1      945.0    ...               1           1   \n",
       "2         3.0          3     1033.0    ...               1           1   \n",
       "3        12.0          1      512.0    ...               1           1   \n",
       "4         7.0          1     1268.0    ...               1           1   \n",
       "\n",
       "  COM_CAT#27 COM_CAT#28 COM_CAT#29 COM_CAT#30 COM_CAT#31 COM_CAT#32  \\\n",
       "0    ,031696    ,076724    ,040279      ,0133    ,083382    ,027579   \n",
       "1    ,015893    ,012981          0          0     ,04893    ,027579   \n",
       "2    ,000415          0          0          0    ,009397    ,027579   \n",
       "3     ,04651    ,039486    ,000829          0    ,196676    ,027579   \n",
       "4    ,005393    ,007385    ,003884          0    ,047297    ,027579   \n",
       "\n",
       "  COM_CAT#33 COM_CAT#34  \n",
       "0    ,103896        2.0  \n",
       "1    ,103896        3.0  \n",
       "2    ,103896        3.0  \n",
       "3    ,103896        1.0  \n",
       "4    ,103896        6.0  \n",
       "\n",
       "[5 rows x 36 columns]"
      ]
     },
     "execution_count": 2,
     "metadata": {},
     "output_type": "execute_result"
    }
   ],
   "source": [
    "data_features = pd.read_csv(\"./dataset/train/subs_features_train.csv\",sep=\";\")\n",
    "test_features = pd.read_csv(\"./dataset/test/subs_features_test.csv\",sep=\";\")\n",
    "data_features.head()"
   ]
  },
  {
   "cell_type": "code",
   "execution_count": 3,
   "metadata": {},
   "outputs": [],
   "source": [
    "#Следующие 4 блока - глебовские преобразования"
   ]
  },
  {
   "cell_type": "code",
   "execution_count": 4,
   "metadata": {},
   "outputs": [],
   "source": [
    "def to_f(x):\n",
    "    if issubclass(str,type(x)):\n",
    "        x = x.replace(',','.')\n",
    "    return float(x)\n",
    "to_float = np.vectorize(to_f)"
   ]
  },
  {
   "cell_type": "code",
   "execution_count": 5,
   "metadata": {},
   "outputs": [],
   "source": [
    "CAT = []\n",
    "for i in data_features.columns:\n",
    "    if re.match(r'COM_CAT',i) or re.match(r'REVENUE',i) or re.match(r'ITC',i) or re.match(r'VAS',i) or re.match(r'RENT_CHANNEL',i) or re.match(r'ROAM',i) or re.match(r'COST',i):\n",
    "        CAT.append(i)"
   ]
  },
  {
   "cell_type": "code",
   "execution_count": 6,
   "metadata": {},
   "outputs": [],
   "source": [
    "for i in CAT:\n",
    "    data_features[i] = to_float(data_features[i])"
   ]
  },
  {
   "cell_type": "code",
   "execution_count": 7,
   "metadata": {},
   "outputs": [],
   "source": [
    "CAT = []\n",
    "for i in test_features.columns:\n",
    "    if re.match(r'COM_CAT',i) or re.match(r'REVENUE',i) or re.match(r'ITC',i) or re.match(r'VAS',i) or re.match(r'RENT_CHANNEL',i) or re.match(r'ROAM',i) or re.match(r'COST',i):\n",
    "        CAT.append(i)\n",
    "\n",
    "for i in CAT:\n",
    "    test_features[i] = to_float(test_features[i])"
   ]
  },
  {
   "cell_type": "code",
   "execution_count": 8,
   "metadata": {},
   "outputs": [],
   "source": [
    "#Смотрим на тип элеметнов в каждом стобце"
   ]
  },
  {
   "cell_type": "code",
   "execution_count": 9,
   "metadata": {},
   "outputs": [
    {
     "name": "stdout",
     "output_type": "stream",
     "text": [
      "SNAP_DATE <type 'str'>\n",
      "COM_CAT#1 <type 'numpy.float64'>\n",
      "SK_ID <type 'numpy.int64'>\n",
      "COM_CAT#2 <type 'numpy.float64'>\n",
      "COM_CAT#3 <type 'numpy.float64'>\n",
      "BASE_TYPE <type 'numpy.int64'>\n",
      "ACT <type 'numpy.int64'>\n",
      "ARPU_GROUP <type 'numpy.float64'>\n",
      "COM_CAT#7 <type 'numpy.float64'>\n",
      "COM_CAT#8 <type 'numpy.float64'>\n",
      "DEVICE_TYPE_ID <type 'numpy.float64'>\n",
      "INTERNET_TYPE_ID <type 'numpy.float64'>\n",
      "REVENUE <type 'numpy.float64'>\n",
      "ITC <type 'numpy.float64'>\n",
      "VAS <type 'numpy.float64'>\n",
      "RENT_CHANNEL <type 'numpy.float64'>\n",
      "ROAM <type 'numpy.float64'>\n",
      "COST <type 'numpy.float64'>\n",
      "COM_CAT#17 <type 'numpy.float64'>\n",
      "COM_CAT#18 <type 'numpy.float64'>\n",
      "COM_CAT#19 <type 'numpy.float64'>\n",
      "COM_CAT#20 <type 'numpy.float64'>\n",
      "COM_CAT#21 <type 'numpy.float64'>\n",
      "COM_CAT#22 <type 'numpy.float64'>\n",
      "COM_CAT#23 <type 'numpy.float64'>\n",
      "COM_CAT#24 <type 'numpy.float64'>\n",
      "COM_CAT#25 <type 'numpy.float64'>\n",
      "COM_CAT#26 <type 'numpy.float64'>\n",
      "COM_CAT#27 <type 'numpy.float64'>\n",
      "COM_CAT#28 <type 'numpy.float64'>\n",
      "COM_CAT#29 <type 'numpy.float64'>\n",
      "COM_CAT#30 <type 'numpy.float64'>\n",
      "COM_CAT#31 <type 'numpy.float64'>\n",
      "COM_CAT#32 <type 'numpy.float64'>\n",
      "COM_CAT#33 <type 'numpy.float64'>\n",
      "COM_CAT#34 <type 'numpy.float64'>\n"
     ]
    }
   ],
   "source": [
    "for i in data_features:\n",
    "    print i, type(data_features[i][0])"
   ]
  },
  {
   "cell_type": "code",
   "execution_count": 10,
   "metadata": {},
   "outputs": [],
   "source": [
    "data_labels = pd.read_csv(\"./dataset/train/subs_csi_train.csv\", sep = ';')\n",
    "test_labels = pd.read_csv(\"./dataset/test/subs_csi_test.csv\", sep = ';')"
   ]
  },
  {
   "cell_type": "code",
   "execution_count": 11,
   "metadata": {},
   "outputs": [],
   "source": [
    "#Коннектим таблицы "
   ]
  },
  {
   "cell_type": "code",
   "execution_count": 12,
   "metadata": {},
   "outputs": [],
   "source": [
    "main_table = pd.merge(data_labels,data_features,on='SK_ID',how='left')\n",
    "test_table = pd.merge(test_labels, test_features,on='SK_ID',how='left')"
   ]
  },
  {
   "cell_type": "code",
   "execution_count": 13,
   "metadata": {},
   "outputs": [],
   "source": [
    "X = main_table"
   ]
  },
  {
   "cell_type": "code",
   "execution_count": 14,
   "metadata": {},
   "outputs": [],
   "source": [
    "import seaborn as sns\n",
    "import matplotlib.pyplot as plt\n",
    "corrmat = main_table.corr()\n",
    "f, ax = plt.subplots(figsize=(12, 9))\n",
    "sns.heatmap(corrmat, vmax=.8, square=True);"
   ]
  },
  {
   "cell_type": "code",
   "execution_count": 15,
   "metadata": {},
   "outputs": [
    {
     "data": {
      "text/plain": [
       "(47411, 38)"
      ]
     },
     "execution_count": 15,
     "metadata": {},
     "output_type": "execute_result"
    }
   ],
   "source": [
    "np.shape(main_table)"
   ]
  },
  {
   "cell_type": "code",
   "execution_count": 16,
   "metadata": {},
   "outputs": [
    {
     "data": {
      "text/plain": [
       "(58989, 37)"
      ]
     },
     "execution_count": 16,
     "metadata": {},
     "output_type": "execute_result"
    }
   ],
   "source": [
    "np.shape(test_table)"
   ]
  },
  {
   "cell_type": "code",
   "execution_count": 17,
   "metadata": {},
   "outputs": [
    {
     "data": {
      "text/html": [
       "<div>\n",
       "<style scoped>\n",
       "    .dataframe tbody tr th:only-of-type {\n",
       "        vertical-align: middle;\n",
       "    }\n",
       "\n",
       "    .dataframe tbody tr th {\n",
       "        vertical-align: top;\n",
       "    }\n",
       "\n",
       "    .dataframe thead th {\n",
       "        text-align: right;\n",
       "    }\n",
       "</style>\n",
       "<table border=\"1\" class=\"dataframe\">\n",
       "  <thead>\n",
       "    <tr style=\"text-align: right;\">\n",
       "      <th></th>\n",
       "      <th>SK_ID</th>\n",
       "      <th>CSI</th>\n",
       "      <th>CONTACT_DATE</th>\n",
       "      <th>SNAP_DATE</th>\n",
       "      <th>COM_CAT#1</th>\n",
       "      <th>COM_CAT#2</th>\n",
       "      <th>COM_CAT#3</th>\n",
       "      <th>BASE_TYPE</th>\n",
       "      <th>ACT</th>\n",
       "      <th>ARPU_GROUP</th>\n",
       "      <th>...</th>\n",
       "      <th>COM_CAT#25</th>\n",
       "      <th>COM_CAT#26</th>\n",
       "      <th>COM_CAT#27</th>\n",
       "      <th>COM_CAT#28</th>\n",
       "      <th>COM_CAT#29</th>\n",
       "      <th>COM_CAT#30</th>\n",
       "      <th>COM_CAT#31</th>\n",
       "      <th>COM_CAT#32</th>\n",
       "      <th>COM_CAT#33</th>\n",
       "      <th>COM_CAT#34</th>\n",
       "    </tr>\n",
       "  </thead>\n",
       "  <tbody>\n",
       "    <tr>\n",
       "      <th>0</th>\n",
       "      <td>2</td>\n",
       "      <td>0</td>\n",
       "      <td>4.05</td>\n",
       "      <td>01.03.02</td>\n",
       "      <td>7.0</td>\n",
       "      <td>77.0</td>\n",
       "      <td>10.0</td>\n",
       "      <td>1</td>\n",
       "      <td>1</td>\n",
       "      <td>10.0</td>\n",
       "      <td>...</td>\n",
       "      <td>1.0</td>\n",
       "      <td>1.0</td>\n",
       "      <td>0.002070</td>\n",
       "      <td>0.007335</td>\n",
       "      <td>0.000050</td>\n",
       "      <td>0.002785</td>\n",
       "      <td>0.029765</td>\n",
       "      <td>0.027579</td>\n",
       "      <td>0.103896</td>\n",
       "      <td>NaN</td>\n",
       "    </tr>\n",
       "    <tr>\n",
       "      <th>1</th>\n",
       "      <td>2</td>\n",
       "      <td>0</td>\n",
       "      <td>4.05</td>\n",
       "      <td>01.02.02</td>\n",
       "      <td>7.0</td>\n",
       "      <td>77.0</td>\n",
       "      <td>9.0</td>\n",
       "      <td>1</td>\n",
       "      <td>1</td>\n",
       "      <td>10.0</td>\n",
       "      <td>...</td>\n",
       "      <td>1.0</td>\n",
       "      <td>1.0</td>\n",
       "      <td>0.003913</td>\n",
       "      <td>0.001590</td>\n",
       "      <td>0.000018</td>\n",
       "      <td>0.001954</td>\n",
       "      <td>0.054871</td>\n",
       "      <td>0.027579</td>\n",
       "      <td>0.103896</td>\n",
       "      <td>NaN</td>\n",
       "    </tr>\n",
       "    <tr>\n",
       "      <th>2</th>\n",
       "      <td>2</td>\n",
       "      <td>0</td>\n",
       "      <td>4.05</td>\n",
       "      <td>01.05.02</td>\n",
       "      <td>7.0</td>\n",
       "      <td>77.0</td>\n",
       "      <td>12.0</td>\n",
       "      <td>1</td>\n",
       "      <td>1</td>\n",
       "      <td>9.0</td>\n",
       "      <td>...</td>\n",
       "      <td>1.0</td>\n",
       "      <td>1.0</td>\n",
       "      <td>0.001801</td>\n",
       "      <td>0.008317</td>\n",
       "      <td>0.000081</td>\n",
       "      <td>0.002441</td>\n",
       "      <td>0.018126</td>\n",
       "      <td>0.027579</td>\n",
       "      <td>0.103896</td>\n",
       "      <td>9.0</td>\n",
       "    </tr>\n",
       "    <tr>\n",
       "      <th>3</th>\n",
       "      <td>2</td>\n",
       "      <td>0</td>\n",
       "      <td>4.05</td>\n",
       "      <td>01.01.02</td>\n",
       "      <td>7.0</td>\n",
       "      <td>77.0</td>\n",
       "      <td>17.0</td>\n",
       "      <td>1</td>\n",
       "      <td>1</td>\n",
       "      <td>6.0</td>\n",
       "      <td>...</td>\n",
       "      <td>1.0</td>\n",
       "      <td>0.0</td>\n",
       "      <td>0.001798</td>\n",
       "      <td>0.002048</td>\n",
       "      <td>0.000033</td>\n",
       "      <td>0.002331</td>\n",
       "      <td>0.022108</td>\n",
       "      <td>0.027579</td>\n",
       "      <td>0.103896</td>\n",
       "      <td>NaN</td>\n",
       "    </tr>\n",
       "    <tr>\n",
       "      <th>4</th>\n",
       "      <td>2</td>\n",
       "      <td>0</td>\n",
       "      <td>4.05</td>\n",
       "      <td>01.04.02</td>\n",
       "      <td>7.0</td>\n",
       "      <td>77.0</td>\n",
       "      <td>11.0</td>\n",
       "      <td>1</td>\n",
       "      <td>1</td>\n",
       "      <td>8.0</td>\n",
       "      <td>...</td>\n",
       "      <td>1.0</td>\n",
       "      <td>1.0</td>\n",
       "      <td>0.006520</td>\n",
       "      <td>0.001408</td>\n",
       "      <td>0.000010</td>\n",
       "      <td>0.001709</td>\n",
       "      <td>0.022772</td>\n",
       "      <td>0.027579</td>\n",
       "      <td>0.103896</td>\n",
       "      <td>9.0</td>\n",
       "    </tr>\n",
       "  </tbody>\n",
       "</table>\n",
       "<p>5 rows × 38 columns</p>\n",
       "</div>"
      ],
      "text/plain": [
       "   SK_ID  CSI  CONTACT_DATE SNAP_DATE  COM_CAT#1  COM_CAT#2  COM_CAT#3  \\\n",
       "0      2    0          4.05  01.03.02        7.0       77.0       10.0   \n",
       "1      2    0          4.05  01.02.02        7.0       77.0        9.0   \n",
       "2      2    0          4.05  01.05.02        7.0       77.0       12.0   \n",
       "3      2    0          4.05  01.01.02        7.0       77.0       17.0   \n",
       "4      2    0          4.05  01.04.02        7.0       77.0       11.0   \n",
       "\n",
       "   BASE_TYPE  ACT  ARPU_GROUP     ...      COM_CAT#25  COM_CAT#26  COM_CAT#27  \\\n",
       "0          1    1        10.0     ...             1.0         1.0    0.002070   \n",
       "1          1    1        10.0     ...             1.0         1.0    0.003913   \n",
       "2          1    1         9.0     ...             1.0         1.0    0.001801   \n",
       "3          1    1         6.0     ...             1.0         0.0    0.001798   \n",
       "4          1    1         8.0     ...             1.0         1.0    0.006520   \n",
       "\n",
       "   COM_CAT#28  COM_CAT#29  COM_CAT#30  COM_CAT#31  COM_CAT#32  COM_CAT#33  \\\n",
       "0    0.007335    0.000050    0.002785    0.029765    0.027579    0.103896   \n",
       "1    0.001590    0.000018    0.001954    0.054871    0.027579    0.103896   \n",
       "2    0.008317    0.000081    0.002441    0.018126    0.027579    0.103896   \n",
       "3    0.002048    0.000033    0.002331    0.022108    0.027579    0.103896   \n",
       "4    0.001408    0.000010    0.001709    0.022772    0.027579    0.103896   \n",
       "\n",
       "   COM_CAT#34  \n",
       "0         NaN  \n",
       "1         NaN  \n",
       "2         9.0  \n",
       "3         NaN  \n",
       "4         9.0  \n",
       "\n",
       "[5 rows x 38 columns]"
      ]
     },
     "execution_count": 17,
     "metadata": {},
     "output_type": "execute_result"
    }
   ],
   "source": [
    "X.head()"
   ]
  },
  {
   "cell_type": "code",
   "execution_count": 18,
   "metadata": {},
   "outputs": [
    {
     "data": {
      "text/plain": [
       "(47411, 38)"
      ]
     },
     "execution_count": 18,
     "metadata": {},
     "output_type": "execute_result"
    }
   ],
   "source": [
    "np.shape(X)"
   ]
  },
  {
   "cell_type": "code",
   "execution_count": 19,
   "metadata": {},
   "outputs": [],
   "source": [
    "#Задаем цель (то, что будем предсказывать) + cols - те столбцы, с которыми будет рабоать"
   ]
  },
  {
   "cell_type": "code",
   "execution_count": 20,
   "metadata": {},
   "outputs": [],
   "source": [
    "target = 'CSI'\n",
    "cols = list(set(X.columns.values) - set (['CONTACT_DATE','SNAP_DATE' , 'CSI', 'SK_ID']))"
   ]
  },
  {
   "cell_type": "code",
   "execution_count": 21,
   "metadata": {},
   "outputs": [
    {
     "data": {
      "text/plain": [
       "Index([u'SK_ID', u'CSI', u'CONTACT_DATE', u'SNAP_DATE', u'COM_CAT#1',\n",
       "       u'COM_CAT#2', u'COM_CAT#3', u'BASE_TYPE', u'ACT', u'ARPU_GROUP',\n",
       "       u'COM_CAT#7', u'COM_CAT#8', u'DEVICE_TYPE_ID', u'INTERNET_TYPE_ID',\n",
       "       u'REVENUE', u'ITC', u'VAS', u'RENT_CHANNEL', u'ROAM', u'COST',\n",
       "       u'COM_CAT#17', u'COM_CAT#18', u'COM_CAT#19', u'COM_CAT#20',\n",
       "       u'COM_CAT#21', u'COM_CAT#22', u'COM_CAT#23', u'COM_CAT#24',\n",
       "       u'COM_CAT#25', u'COM_CAT#26', u'COM_CAT#27', u'COM_CAT#28',\n",
       "       u'COM_CAT#29', u'COM_CAT#30', u'COM_CAT#31', u'COM_CAT#32',\n",
       "       u'COM_CAT#33', u'COM_CAT#34'],\n",
       "      dtype='object')"
      ]
     },
     "execution_count": 21,
     "metadata": {},
     "output_type": "execute_result"
    }
   ],
   "source": [
    "X.columns"
   ]
  },
  {
   "cell_type": "code",
   "execution_count": 22,
   "metadata": {},
   "outputs": [
    {
     "data": {
      "text/html": [
       "<div>\n",
       "<style scoped>\n",
       "    .dataframe tbody tr th:only-of-type {\n",
       "        vertical-align: middle;\n",
       "    }\n",
       "\n",
       "    .dataframe tbody tr th {\n",
       "        vertical-align: top;\n",
       "    }\n",
       "\n",
       "    .dataframe thead th {\n",
       "        text-align: right;\n",
       "    }\n",
       "</style>\n",
       "<table border=\"1\" class=\"dataframe\">\n",
       "  <thead>\n",
       "    <tr style=\"text-align: right;\">\n",
       "      <th></th>\n",
       "      <th>Total</th>\n",
       "      <th>Percent</th>\n",
       "    </tr>\n",
       "  </thead>\n",
       "  <tbody>\n",
       "    <tr>\n",
       "      <th>COM_CAT#34</th>\n",
       "      <td>1603</td>\n",
       "      <td>0.033811</td>\n",
       "    </tr>\n",
       "    <tr>\n",
       "      <th>COM_CAT#8</th>\n",
       "      <td>124</td>\n",
       "      <td>0.002615</td>\n",
       "    </tr>\n",
       "    <tr>\n",
       "      <th>INTERNET_TYPE_ID</th>\n",
       "      <td>111</td>\n",
       "      <td>0.002341</td>\n",
       "    </tr>\n",
       "    <tr>\n",
       "      <th>DEVICE_TYPE_ID</th>\n",
       "      <td>111</td>\n",
       "      <td>0.002341</td>\n",
       "    </tr>\n",
       "    <tr>\n",
       "      <th>ARPU_GROUP</th>\n",
       "      <td>21</td>\n",
       "      <td>0.000443</td>\n",
       "    </tr>\n",
       "    <tr>\n",
       "      <th>VAS</th>\n",
       "      <td>0</td>\n",
       "      <td>0.000000</td>\n",
       "    </tr>\n",
       "    <tr>\n",
       "      <th>ITC</th>\n",
       "      <td>0</td>\n",
       "      <td>0.000000</td>\n",
       "    </tr>\n",
       "    <tr>\n",
       "      <th>REVENUE</th>\n",
       "      <td>0</td>\n",
       "      <td>0.000000</td>\n",
       "    </tr>\n",
       "    <tr>\n",
       "      <th>COM_CAT#7</th>\n",
       "      <td>0</td>\n",
       "      <td>0.000000</td>\n",
       "    </tr>\n",
       "    <tr>\n",
       "      <th>ACT</th>\n",
       "      <td>0</td>\n",
       "      <td>0.000000</td>\n",
       "    </tr>\n",
       "    <tr>\n",
       "      <th>COM_CAT#33</th>\n",
       "      <td>0</td>\n",
       "      <td>0.000000</td>\n",
       "    </tr>\n",
       "    <tr>\n",
       "      <th>BASE_TYPE</th>\n",
       "      <td>0</td>\n",
       "      <td>0.000000</td>\n",
       "    </tr>\n",
       "    <tr>\n",
       "      <th>COM_CAT#3</th>\n",
       "      <td>0</td>\n",
       "      <td>0.000000</td>\n",
       "    </tr>\n",
       "    <tr>\n",
       "      <th>COM_CAT#2</th>\n",
       "      <td>0</td>\n",
       "      <td>0.000000</td>\n",
       "    </tr>\n",
       "    <tr>\n",
       "      <th>COM_CAT#1</th>\n",
       "      <td>0</td>\n",
       "      <td>0.000000</td>\n",
       "    </tr>\n",
       "    <tr>\n",
       "      <th>SNAP_DATE</th>\n",
       "      <td>0</td>\n",
       "      <td>0.000000</td>\n",
       "    </tr>\n",
       "    <tr>\n",
       "      <th>CONTACT_DATE</th>\n",
       "      <td>0</td>\n",
       "      <td>0.000000</td>\n",
       "    </tr>\n",
       "    <tr>\n",
       "      <th>CSI</th>\n",
       "      <td>0</td>\n",
       "      <td>0.000000</td>\n",
       "    </tr>\n",
       "    <tr>\n",
       "      <th>RENT_CHANNEL</th>\n",
       "      <td>0</td>\n",
       "      <td>0.000000</td>\n",
       "    </tr>\n",
       "    <tr>\n",
       "      <th>ROAM</th>\n",
       "      <td>0</td>\n",
       "      <td>0.000000</td>\n",
       "    </tr>\n",
       "  </tbody>\n",
       "</table>\n",
       "</div>"
      ],
      "text/plain": [
       "                  Total   Percent\n",
       "COM_CAT#34         1603  0.033811\n",
       "COM_CAT#8           124  0.002615\n",
       "INTERNET_TYPE_ID    111  0.002341\n",
       "DEVICE_TYPE_ID      111  0.002341\n",
       "ARPU_GROUP           21  0.000443\n",
       "VAS                   0  0.000000\n",
       "ITC                   0  0.000000\n",
       "REVENUE               0  0.000000\n",
       "COM_CAT#7             0  0.000000\n",
       "ACT                   0  0.000000\n",
       "COM_CAT#33            0  0.000000\n",
       "BASE_TYPE             0  0.000000\n",
       "COM_CAT#3             0  0.000000\n",
       "COM_CAT#2             0  0.000000\n",
       "COM_CAT#1             0  0.000000\n",
       "SNAP_DATE             0  0.000000\n",
       "CONTACT_DATE          0  0.000000\n",
       "CSI                   0  0.000000\n",
       "RENT_CHANNEL          0  0.000000\n",
       "ROAM                  0  0.000000"
      ]
     },
     "execution_count": 22,
     "metadata": {},
     "output_type": "execute_result"
    }
   ],
   "source": [
    "#Смотрим пропущенные данные на трейне\n",
    "df_train = X\n",
    "\n",
    "total = df_train.isnull().sum().sort_values(ascending=False)\n",
    "percent = (df_train.isnull().sum()/df_train.isnull().count()).sort_values(ascending=False)\n",
    "missing_data = pd.concat([total, percent], axis=1, keys=['Total', 'Percent'])\n",
    "missing_data.head(20)"
   ]
  },
  {
   "cell_type": "code",
   "execution_count": 23,
   "metadata": {},
   "outputs": [],
   "source": [
    "#Удаляем к чертям те сэмплы, где есть пропуски\n",
    "\n",
    "X = X[~X['COM_CAT#17'].isnull()]\n",
    "X = X[~X['COM_CAT#8'].isnull()]\n",
    "X = X[~X['COM_CAT#34'].isnull()]\n",
    "X = X[~X['ARPU_GROUP'].isnull()]"
   ]
  },
  {
   "cell_type": "code",
   "execution_count": 24,
   "metadata": {},
   "outputs": [],
   "source": [
    "main_table_new = X"
   ]
  },
  {
   "cell_type": "code",
   "execution_count": 25,
   "metadata": {},
   "outputs": [
    {
     "data": {
      "text/html": [
       "<div>\n",
       "<style scoped>\n",
       "    .dataframe tbody tr th:only-of-type {\n",
       "        vertical-align: middle;\n",
       "    }\n",
       "\n",
       "    .dataframe tbody tr th {\n",
       "        vertical-align: top;\n",
       "    }\n",
       "\n",
       "    .dataframe thead th {\n",
       "        text-align: right;\n",
       "    }\n",
       "</style>\n",
       "<table border=\"1\" class=\"dataframe\">\n",
       "  <thead>\n",
       "    <tr style=\"text-align: right;\">\n",
       "      <th></th>\n",
       "      <th>Total</th>\n",
       "      <th>Percent</th>\n",
       "    </tr>\n",
       "  </thead>\n",
       "  <tbody>\n",
       "    <tr>\n",
       "      <th>COM_CAT#8</th>\n",
       "      <td>4735</td>\n",
       "      <td>0.080269</td>\n",
       "    </tr>\n",
       "    <tr>\n",
       "      <th>COM_CAT#34</th>\n",
       "      <td>1861</td>\n",
       "      <td>0.031548</td>\n",
       "    </tr>\n",
       "    <tr>\n",
       "      <th>INTERNET_TYPE_ID</th>\n",
       "      <td>191</td>\n",
       "      <td>0.003238</td>\n",
       "    </tr>\n",
       "    <tr>\n",
       "      <th>DEVICE_TYPE_ID</th>\n",
       "      <td>191</td>\n",
       "      <td>0.003238</td>\n",
       "    </tr>\n",
       "    <tr>\n",
       "      <th>ARPU_GROUP</th>\n",
       "      <td>21</td>\n",
       "      <td>0.000356</td>\n",
       "    </tr>\n",
       "    <tr>\n",
       "      <th>COM_CAT#2</th>\n",
       "      <td>0</td>\n",
       "      <td>0.000000</td>\n",
       "    </tr>\n",
       "    <tr>\n",
       "      <th>COM_CAT#3</th>\n",
       "      <td>0</td>\n",
       "      <td>0.000000</td>\n",
       "    </tr>\n",
       "    <tr>\n",
       "      <th>BASE_TYPE</th>\n",
       "      <td>0</td>\n",
       "      <td>0.000000</td>\n",
       "    </tr>\n",
       "    <tr>\n",
       "      <th>ACT</th>\n",
       "      <td>0</td>\n",
       "      <td>0.000000</td>\n",
       "    </tr>\n",
       "    <tr>\n",
       "      <th>ROAM</th>\n",
       "      <td>0</td>\n",
       "      <td>0.000000</td>\n",
       "    </tr>\n",
       "    <tr>\n",
       "      <th>COM_CAT#7</th>\n",
       "      <td>0</td>\n",
       "      <td>0.000000</td>\n",
       "    </tr>\n",
       "    <tr>\n",
       "      <th>COM_CAT#1</th>\n",
       "      <td>0</td>\n",
       "      <td>0.000000</td>\n",
       "    </tr>\n",
       "    <tr>\n",
       "      <th>SNAP_DATE</th>\n",
       "      <td>0</td>\n",
       "      <td>0.000000</td>\n",
       "    </tr>\n",
       "    <tr>\n",
       "      <th>CONTACT_DATE</th>\n",
       "      <td>0</td>\n",
       "      <td>0.000000</td>\n",
       "    </tr>\n",
       "    <tr>\n",
       "      <th>REVENUE</th>\n",
       "      <td>0</td>\n",
       "      <td>0.000000</td>\n",
       "    </tr>\n",
       "    <tr>\n",
       "      <th>ITC</th>\n",
       "      <td>0</td>\n",
       "      <td>0.000000</td>\n",
       "    </tr>\n",
       "    <tr>\n",
       "      <th>VAS</th>\n",
       "      <td>0</td>\n",
       "      <td>0.000000</td>\n",
       "    </tr>\n",
       "    <tr>\n",
       "      <th>RENT_CHANNEL</th>\n",
       "      <td>0</td>\n",
       "      <td>0.000000</td>\n",
       "    </tr>\n",
       "    <tr>\n",
       "      <th>COST</th>\n",
       "      <td>0</td>\n",
       "      <td>0.000000</td>\n",
       "    </tr>\n",
       "    <tr>\n",
       "      <th>COM_CAT#33</th>\n",
       "      <td>0</td>\n",
       "      <td>0.000000</td>\n",
       "    </tr>\n",
       "  </tbody>\n",
       "</table>\n",
       "</div>"
      ],
      "text/plain": [
       "                  Total   Percent\n",
       "COM_CAT#8          4735  0.080269\n",
       "COM_CAT#34         1861  0.031548\n",
       "INTERNET_TYPE_ID    191  0.003238\n",
       "DEVICE_TYPE_ID      191  0.003238\n",
       "ARPU_GROUP           21  0.000356\n",
       "COM_CAT#2             0  0.000000\n",
       "COM_CAT#3             0  0.000000\n",
       "BASE_TYPE             0  0.000000\n",
       "ACT                   0  0.000000\n",
       "ROAM                  0  0.000000\n",
       "COM_CAT#7             0  0.000000\n",
       "COM_CAT#1             0  0.000000\n",
       "SNAP_DATE             0  0.000000\n",
       "CONTACT_DATE          0  0.000000\n",
       "REVENUE               0  0.000000\n",
       "ITC                   0  0.000000\n",
       "VAS                   0  0.000000\n",
       "RENT_CHANNEL          0  0.000000\n",
       "COST                  0  0.000000\n",
       "COM_CAT#33            0  0.000000"
      ]
     },
     "execution_count": 25,
     "metadata": {},
     "output_type": "execute_result"
    }
   ],
   "source": [
    "#Смотрим на пропущенные данные на тесте\n",
    "df_train = test_table\n",
    "\n",
    "total = df_train.isnull().sum().sort_values(ascending=False)\n",
    "percent = (df_train.isnull().sum()/df_train.isnull().count()).sort_values(ascending=False)\n",
    "missing_data = pd.concat([total, percent], axis=1, keys=['Total', 'Percent'])\n",
    "missing_data.head(20)"
   ]
  },
  {
   "cell_type": "code",
   "execution_count": 26,
   "metadata": {},
   "outputs": [],
   "source": [
    "#Удаляем сэмплы с пропущенными данными в тесте\n",
    "big_test = test_table\n",
    "big_test = big_test[~big_test['COM_CAT#8'].isnull()]\n",
    "big_test = big_test[~big_test['COM_CAT#34'].isnull()]\n",
    "big_test = big_test[~big_test['INTERNET_TYPE_ID'].isnull()]\n",
    "big_test = big_test[~big_test['DEVICE_TYPE_ID'].isnull()]\n",
    "big_test = big_test[~big_test['ARPU_GROUP'].isnull()]"
   ]
  },
  {
   "cell_type": "raw",
   "metadata": {
    "scrolled": false
   },
   "source": [
    "from sklearn.feature_selection import SelectKBest\n",
    "from sklearn.feature_selection import chi2\n",
    "X_new = SelectKBest(chi2, k=2).fit_transform(X[cols], X[target])"
   ]
  },
  {
   "cell_type": "code",
   "execution_count": 27,
   "metadata": {},
   "outputs": [],
   "source": [
    "#Бьем наш трейн на новый трейн+тест, чтобы можно было проверять, насколько мы офигенны\n",
    "from sklearn.model_selection import train_test_split\n",
    "\n",
    "train, test = train_test_split(main_table_new, random_state=1337)\n",
    "\n",
    "X = train[cols]\n",
    "Y = train[target]\n",
    "\n",
    "X_test = test[cols]\n",
    "Y_test = test[target]"
   ]
  },
  {
   "cell_type": "code",
   "execution_count": 28,
   "metadata": {},
   "outputs": [],
   "source": [
    "from sklearn.tree import DecisionTreeClassifier\n",
    "from sklearn.linear_model import LogisticRegression\n",
    "from sklearn.neighbors import KNeighborsClassifier\n",
    "from sklearn.metrics import f1_score\n",
    "from sklearn.metrics import roc_auc_score\n",
    "from sklearn.metrics import accuracy_score\n",
    "from sklearn.metrics import log_loss\n",
    "import matplotlib.pyplot as plt"
   ]
  },
  {
   "cell_type": "code",
   "execution_count": 29,
   "metadata": {},
   "outputs": [],
   "source": [
    "def change(mas):\n",
    "    mas_new = []\n",
    "    for i in mas:\n",
    "        if i == 1:\n",
    "            mas_new.append(0)\n",
    "        else:\n",
    "            mas_new.append(1)\n",
    "            \n",
    "    return mas_new"
   ]
  },
  {
   "cell_type": "code",
   "execution_count": 31,
   "metadata": {},
   "outputs": [
    {
     "name": "stdout",
     "output_type": "stream",
     "text": [
      "Max f1_score on max_depth   1  is  0.9352678571428572\n"
     ]
    },
    {
     "data": {
      "text/plain": [
       "<matplotlib.legend.Legend at 0x7fefe990fe10>"
      ]
     },
     "execution_count": 31,
     "metadata": {},
     "output_type": "execute_result"
    },
    {
     "data": {
      "image/png": "[encoded data removed]",
      "text/plain": [
       "<Figure size 432x288 with 1 Axes>"
      ]
     },
     "metadata": {
      "needs_background": "light"
     },
     "output_type": "display_data"
    }
   ],
   "source": [
    "#эта штука перебирает параметры для модели и строит графики зависимости параметр-скор\n",
    "\n",
    "#model = KNeighborsClassifier(n_neighbors=19)\n",
    "#model = LogisticRegression()\n",
    "\n",
    "max_c = 0;\n",
    "max_j = 0;\n",
    "y_fsc = []\n",
    "y_fsc_not = []\n",
    "y_rauc = []\n",
    "y_acc = []\n",
    "y_ll = []\n",
    "for j in range(1, 100):\n",
    "    x_vals = np.arange(1, 100)\n",
    "    model =  KNeighborsClassifier(n_neighbors=j)\n",
    "    model.fit(X, Y)\n",
    "    y_pred = model.predict(X_test)\n",
    "    f_sc = f1_score(y_pred, Y_test)\n",
    "    y_pred_2 = change(y_pred)\n",
    "    f_sc_2 = f1_score(y_pred_2, Y_test)\n",
    "    y_fsc.append(f_sc)\n",
    "    y_fsc_not.append(f_sc_2)\n",
    "    r_auc = roc_auc_score(y_pred, Y_test)\n",
    "    y_rauc.append(r_auc)\n",
    "    acc = accuracy_score(y_pred, Y_test)\n",
    "    y_acc.append(acc)\n",
    "    if (f_sc > max_c):\n",
    "        max_c = f_sc\n",
    "        max_j = j\n",
    "print \"Max f1_score on max_depth  \",  max_j, \" is \", max_c\n",
    "plt.figure()\n",
    "plt.xlabel('max_depth')\n",
    "plt.ylabel('score')\n",
    "plt.title('DecisionTreeClassifier')\n",
    "plt.plot(x_vals, y_fsc_not, color = \"orange\", label = \"f1_score_NOT\")\n",
    "plt.plot(x_vals, y_fsc, color = \"green\", label = \"f1_score\")\n",
    "plt.plot(x_vals, y_rauc, color = \"red\", label = \"roc_auc_score\")\n",
    "plt.plot(x_vals, y_acc, color = \"black\", label = \"accuracy_score\")\n",
    "plt.legend()"
   ]
  },
  {
   "cell_type": "markdown",
   "metadata": {},
   "source": [
    "Max f1_score on max_depth   2  is  0.983574450834229"
   ]
  },
  {
   "cell_type": "code",
   "execution_count": null,
   "metadata": {},
   "outputs": [],
   "source": []
  },
  {
   "cell_type": "code",
   "execution_count": 47,
   "metadata": {},
   "outputs": [
    {
     "data": {
      "text/plain": [
       "KNeighborsClassifier(algorithm='auto', leaf_size=30, metric='minkowski',\n",
       "           metric_params=None, n_jobs=None, n_neighbors=2, p=2,\n",
       "           weights='uniform')"
      ]
     },
     "execution_count": 47,
     "metadata": {},
     "output_type": "execute_result"
    }
   ],
   "source": [
    "#Хоть по граффику и не 83, но я тыкнул 83 и у меня получился неплохой ответ (с 88 хуже)\n",
    "#тренируем модель\n",
    "\n",
    "model =  KNeighborsClassifier(n_neighbors=2)\n",
    "model.fit(main_table_new[cols], main_table_new[target])"
   ]
  },
  {
   "cell_type": "code",
   "execution_count": null,
   "metadata": {},
   "outputs": [],
   "source": []
  },
  {
   "cell_type": "code",
   "execution_count": 48,
   "metadata": {},
   "outputs": [],
   "source": [
    "#Делаем предсказание\n",
    "y_pred = model.predict(big_test[cols])"
   ]
  },
  {
   "cell_type": "code",
   "execution_count": 49,
   "metadata": {},
   "outputs": [],
   "source": [
    "#делаем словарь тех 'SK_ID', для которых мы знаем результат. (ибо некоторые сэмплы мы выкинули, т.к. они были с нуллами)\n",
    "dic = {}\n",
    "for i in range(len(big_test['SK_ID'])):\n",
    "    dic[np.array(big_test['SK_ID'])[i]] = y_pred[i]"
   ]
  },
  {
   "cell_type": "code",
   "execution_count": 50,
   "metadata": {},
   "outputs": [],
   "source": [
    "#мы чет точно портили, загрузим тест еще раз\n",
    "test4_big = pd.read_csv('./dataset/test/subs_csi_test.csv', sep = ';')"
   ]
  },
  {
   "cell_type": "code",
   "execution_count": 51,
   "metadata": {},
   "outputs": [],
   "source": [
    "#бежим по тесту. если для этого 'SK_ID' есть предсказание в нашем словаре - даем его. \n",
    "#если нет - суем нафиг 0.\n",
    "res_mas = []\n",
    "for i in range(len(test4_big['SK_ID'])):\n",
    "    if np.array(test4_big['SK_ID'])[i] not in dic:\n",
    "        res_mas.append(0)\n",
    "    else:\n",
    "        res_mas.append(int(not(dic[np.array(test4_big['SK_ID'])[i]])))"
   ]
  },
  {
   "cell_type": "code",
   "execution_count": 52,
   "metadata": {},
   "outputs": [
    {
     "data": {
      "text/plain": [
       "5221"
      ]
     },
     "execution_count": 52,
     "metadata": {},
     "output_type": "execute_result"
    }
   ],
   "source": [
    "#проверяем, норм ли всё с длиной результата\n",
    "len(res_mas)"
   ]
  },
  {
   "cell_type": "code",
   "execution_count": 53,
   "metadata": {},
   "outputs": [],
   "source": [
    "res_mas = pd.Series(res_mas)"
   ]
  },
  {
   "cell_type": "code",
   "execution_count": 54,
   "metadata": {},
   "outputs": [],
   "source": [
    "res_f = pd.Series(data = res_mas, index=None)\n",
    "res_f.to_csv('Re_csv_6', index=None)"
   ]
  }
 ],
 "metadata": {
  "kernelspec": {
   "display_name": "Python 2",
   "language": "python",
   "name": "python2"
  },
  "language_info": {
   "codemirror_mode": {
    "name": "ipython",
    "version": 2
   },
   "file_extension": ".py",
   "mimetype": "text/x-python",
   "name": "python",
   "nbconvert_exporter": "python",
   "pygments_lexer": "ipython2",
   "version": "2.7.12"
  }
 },
 "nbformat": 4,
 "nbformat_minor": 2
}
